{
  "nbformat": 4,
  "nbformat_minor": 0,
  "metadata": {
    "colab": {
      "name": "app.ipynb",
      "provenance": [],
      "collapsed_sections": []
    },
    "kernelspec": {
      "name": "python3",
      "display_name": "Python 3"
    },
    "language_info": {
      "name": "python"
    }
  },
  "cells": [
    {
      "cell_type": "code",
      "source": [
        "!pip install flask-ngrok"
      ],
      "metadata": {
        "colab": {
          "base_uri": "https://localhost:8080/"
        },
        "id": "BiKzlTWFhfOo",
        "outputId": "a43ddac4-1150-4143-eb46-3b19ba6619be"
      },
      "execution_count": 1,
      "outputs": [
        {
          "output_type": "stream",
          "name": "stdout",
          "text": [
            "Looking in indexes: https://pypi.org/simple, https://us-python.pkg.dev/colab-wheels/public/simple/\n",
            "Collecting flask-ngrok\n",
            "  Downloading flask_ngrok-0.0.25-py3-none-any.whl (3.1 kB)\n",
            "Requirement already satisfied: Flask>=0.8 in /usr/local/lib/python3.7/dist-packages (from flask-ngrok) (1.1.4)\n",
            "Requirement already satisfied: requests in /usr/local/lib/python3.7/dist-packages (from flask-ngrok) (2.23.0)\n",
            "Requirement already satisfied: Werkzeug<2.0,>=0.15 in /usr/local/lib/python3.7/dist-packages (from Flask>=0.8->flask-ngrok) (1.0.1)\n",
            "Requirement already satisfied: itsdangerous<2.0,>=0.24 in /usr/local/lib/python3.7/dist-packages (from Flask>=0.8->flask-ngrok) (1.1.0)\n",
            "Requirement already satisfied: Jinja2<3.0,>=2.10.1 in /usr/local/lib/python3.7/dist-packages (from Flask>=0.8->flask-ngrok) (2.11.3)\n",
            "Requirement already satisfied: click<8.0,>=5.1 in /usr/local/lib/python3.7/dist-packages (from Flask>=0.8->flask-ngrok) (7.1.2)\n",
            "Requirement already satisfied: MarkupSafe>=0.23 in /usr/local/lib/python3.7/dist-packages (from Jinja2<3.0,>=2.10.1->Flask>=0.8->flask-ngrok) (2.0.1)\n",
            "Requirement already satisfied: chardet<4,>=3.0.2 in /usr/local/lib/python3.7/dist-packages (from requests->flask-ngrok) (3.0.4)\n",
            "Requirement already satisfied: idna<3,>=2.5 in /usr/local/lib/python3.7/dist-packages (from requests->flask-ngrok) (2.10)\n",
            "Requirement already satisfied: urllib3!=1.25.0,!=1.25.1,<1.26,>=1.21.1 in /usr/local/lib/python3.7/dist-packages (from requests->flask-ngrok) (1.24.3)\n",
            "Requirement already satisfied: certifi>=2017.4.17 in /usr/local/lib/python3.7/dist-packages (from requests->flask-ngrok) (2022.6.15)\n",
            "Installing collected packages: flask-ngrok\n",
            "Successfully installed flask-ngrok-0.0.25\n"
          ]
        }
      ]
    },
    {
      "cell_type": "code",
      "source": [
        "!pip install flask-waitress"
      ],
      "metadata": {
        "colab": {
          "base_uri": "https://localhost:8080/"
        },
        "id": "lVM-VK59hqON",
        "outputId": "3b459b6f-33c2-48a1-f685-4b2a6f8d6599"
      },
      "execution_count": 17,
      "outputs": [
        {
          "output_type": "stream",
          "name": "stdout",
          "text": [
            "Looking in indexes: https://pypi.org/simple, https://us-python.pkg.dev/colab-wheels/public/simple/\n",
            "Collecting flask-waitress\n",
            "  Downloading Flask-Waitress-0.0.1.tar.gz (1.3 kB)\n",
            "Requirement already satisfied: flask>=0.9 in /usr/local/lib/python3.7/dist-packages (from flask-waitress) (1.1.4)\n",
            "Collecting paste>=1.7\n",
            "  Downloading Paste-3.5.1-py2.py3-none-any.whl (593 kB)\n",
            "\u001b[K     |████████████████████████████████| 593 kB 7.6 MB/s \n",
            "\u001b[?25hCollecting waitress\n",
            "  Downloading waitress-2.1.2-py3-none-any.whl (57 kB)\n",
            "\u001b[K     |████████████████████████████████| 57 kB 6.6 MB/s \n",
            "\u001b[?25hRequirement already satisfied: itsdangerous<2.0,>=0.24 in /usr/local/lib/python3.7/dist-packages (from flask>=0.9->flask-waitress) (1.1.0)\n",
            "Requirement already satisfied: Jinja2<3.0,>=2.10.1 in /usr/local/lib/python3.7/dist-packages (from flask>=0.9->flask-waitress) (2.11.3)\n",
            "Requirement already satisfied: click<8.0,>=5.1 in /usr/local/lib/python3.7/dist-packages (from flask>=0.9->flask-waitress) (7.1.2)\n",
            "Requirement already satisfied: Werkzeug<2.0,>=0.15 in /usr/local/lib/python3.7/dist-packages (from flask>=0.9->flask-waitress) (1.0.1)\n",
            "Requirement already satisfied: MarkupSafe>=0.23 in /usr/local/lib/python3.7/dist-packages (from Jinja2<3.0,>=2.10.1->flask>=0.9->flask-waitress) (2.0.1)\n",
            "Requirement already satisfied: setuptools in /usr/local/lib/python3.7/dist-packages (from paste>=1.7->flask-waitress) (57.4.0)\n",
            "Requirement already satisfied: six>=1.4.0 in /usr/local/lib/python3.7/dist-packages (from paste>=1.7->flask-waitress) (1.15.0)\n",
            "Building wheels for collected packages: flask-waitress\n",
            "  Building wheel for flask-waitress (setup.py) ... \u001b[?25l\u001b[?25hdone\n",
            "  Created wheel for flask-waitress: filename=Flask_Waitress-0.0.1-py3-none-any.whl size=1718 sha256=7d698ffd5d48c383d02cc210e9ec7f74cdc5c4c851ae4cd54f594dfcf0ba6825\n",
            "  Stored in directory: /root/.cache/pip/wheels/ff/a1/12/15dc0e881525926470b5182ffbc90b3cfb0823d61a352e4dee\n",
            "Successfully built flask-waitress\n",
            "Installing collected packages: waitress, paste, flask-waitress\n",
            "Successfully installed flask-waitress-0.0.1 paste-3.5.1 waitress-2.1.2\n"
          ]
        }
      ]
    },
    {
      "cell_type": "code",
      "execution_count": 32,
      "metadata": {
        "id": "sSHnQoMwghzP"
      },
      "outputs": [],
      "source": [
        "#!/usr/bin/env python\n",
        "# coding: utf-8\n",
        "\n",
        "# In[9]:\n",
        "\n",
        "from flask import Flask, render_template, request\n",
        "import numpy as np\n",
        "import pandas as pd\n",
        "import joblib\n",
        "import pickle"
      ]
    },
    {
      "cell_type": "code",
      "source": [
        "app = Flask(__name__, template_folder = 'template')"
      ],
      "metadata": {
        "id": "yMjZyGvGDUd0"
      },
      "execution_count": 33,
      "outputs": []
    },
    {
      "cell_type": "code",
      "source": [
        "model = joblib.load(\"Pakistan_temperature_predictor_model.pkl\")"
      ],
      "metadata": {
        "id": "GP619uQJDb5g"
      },
      "execution_count": 37,
      "outputs": []
    },
    {
      "cell_type": "code",
      "source": [
        "mydata = pd.read_csv(r'tempreture_1901_2016_pakistan.csv')\n",
        "df = pd.DataFrame(mydata, columns = ['Temperature - (Celsius)','Year','Month'])"
      ],
      "metadata": {
        "id": "__WCJ1jM9pbq"
      },
      "execution_count": 38,
      "outputs": []
    },
    {
      "cell_type": "code",
      "source": [
        "# In[11]:\n",
        "\n",
        "app = Flask(__name__, template_folder = 'template')\n",
        "\n",
        "@app.route('/')\n",
        "def home():\n",
        "    return render_template('temperature.html')\n",
        "@app.route('/', methods=['POST'])\n",
        "def predict():\n",
        "    a = np.array(df['Month'], df['Year'])\n",
        "    b = np.array(df['Temperature - (Celsius)'].values.tolist())\n",
        "    data1 = request.form['a']\n",
        "    data2 = request.form['b']\n",
        "    arr = np.array([[data1, data2]])\n",
        "    pred = model.predict(arr)\n",
        "    \n",
        "    \n",
        "    #If the output is negative, the values entered are unreasonable to the context of the application\n",
        "    #If the output is greater than 0, return prediction\n",
        "    if pred < 0:\n",
        "        return render_template('temperature.html', prediction_text = \"Predicted Price is negative, values entered are not correct\")\n",
        "    elif pred >= 0:\n",
        "        return render_template('temperature.html', prediction_text = 'Predicted Price of the Temperature is: ${}'.format(pred))\n",
        "\n",
        "if __name__ == \"__main__\":\n",
        "    from waitress import serve\n",
        "    #serve(app, host=\"0.0.0.0\", port=8080)\n",
        "    app.run()"
      ],
      "metadata": {
        "colab": {
          "base_uri": "https://localhost:8080/"
        },
        "id": "d2SSFw47hJxw",
        "outputId": "6b566999-10fe-4cfa-98e1-b93d26f21ff2"
      },
      "execution_count": 42,
      "outputs": [
        {
          "output_type": "stream",
          "name": "stdout",
          "text": [
            " * Serving Flask app \"__main__\" (lazy loading)\n",
            " * Environment: production\n",
            "\u001b[31m   WARNING: This is a development server. Do not use it in a production deployment.\u001b[0m\n",
            "\u001b[2m   Use a production WSGI server instead.\u001b[0m\n",
            " * Debug mode: off\n"
          ]
        }
      ]
    }
  ]
}