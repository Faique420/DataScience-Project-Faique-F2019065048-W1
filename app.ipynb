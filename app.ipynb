{
  "nbformat": 4,
  "nbformat_minor": 0,
  "metadata": {
    "colab": {
      "name": "app.ipynb",
      "provenance": [],
      "collapsed_sections": []
    },
    "kernelspec": {
      "name": "python3",
      "display_name": "Python 3"
    },
    "language_info": {
      "name": "python"
    }
  },
  "cells": [
    {
      "cell_type": "code",
      "source": [
        "!pip install flask-ngrok"
      ],
      "metadata": {
        "colab": {
          "base_uri": "https://localhost:8080/"
        },
        "id": "BiKzlTWFhfOo",
        "outputId": "2a7e21dd-0cd8-46a0-a835-d41a497fa0e4"
      },
      "execution_count": 44,
      "outputs": [
        {
          "output_type": "stream",
          "name": "stdout",
          "text": [
            "Looking in indexes: https://pypi.org/simple, https://us-python.pkg.dev/colab-wheels/public/simple/\n",
            "Requirement already satisfied: flask-ngrok in /usr/local/lib/python3.7/dist-packages (0.0.25)\n",
            "Requirement already satisfied: requests in /usr/local/lib/python3.7/dist-packages (from flask-ngrok) (2.23.0)\n",
            "Requirement already satisfied: Flask>=0.8 in /usr/local/lib/python3.7/dist-packages (from flask-ngrok) (1.1.4)\n",
            "Requirement already satisfied: Werkzeug<2.0,>=0.15 in /usr/local/lib/python3.7/dist-packages (from Flask>=0.8->flask-ngrok) (1.0.1)\n",
            "Requirement already satisfied: itsdangerous<2.0,>=0.24 in /usr/local/lib/python3.7/dist-packages (from Flask>=0.8->flask-ngrok) (1.1.0)\n",
            "Requirement already satisfied: Jinja2<3.0,>=2.10.1 in /usr/local/lib/python3.7/dist-packages (from Flask>=0.8->flask-ngrok) (2.11.3)\n",
            "Requirement already satisfied: click<8.0,>=5.1 in /usr/local/lib/python3.7/dist-packages (from Flask>=0.8->flask-ngrok) (7.1.2)\n",
            "Requirement already satisfied: MarkupSafe>=0.23 in /usr/local/lib/python3.7/dist-packages (from Jinja2<3.0,>=2.10.1->Flask>=0.8->flask-ngrok) (2.0.1)\n",
            "Requirement already satisfied: urllib3!=1.25.0,!=1.25.1,<1.26,>=1.21.1 in /usr/local/lib/python3.7/dist-packages (from requests->flask-ngrok) (1.24.3)\n",
            "Requirement already satisfied: idna<3,>=2.5 in /usr/local/lib/python3.7/dist-packages (from requests->flask-ngrok) (2.10)\n",
            "Requirement already satisfied: certifi>=2017.4.17 in /usr/local/lib/python3.7/dist-packages (from requests->flask-ngrok) (2022.6.15)\n",
            "Requirement already satisfied: chardet<4,>=3.0.2 in /usr/local/lib/python3.7/dist-packages (from requests->flask-ngrok) (3.0.4)\n"
          ]
        }
      ]
    },
    {
      "cell_type": "code",
      "source": [
        "!pip install flask-waitress"
      ],
      "metadata": {
        "colab": {
          "base_uri": "https://localhost:8080/"
        },
        "id": "lVM-VK59hqON",
        "outputId": "2469df30-ef48-43ee-f9af-bd165c96c76a"
      },
      "execution_count": 45,
      "outputs": [
        {
          "output_type": "stream",
          "name": "stdout",
          "text": [
            "Looking in indexes: https://pypi.org/simple, https://us-python.pkg.dev/colab-wheels/public/simple/\n",
            "Requirement already satisfied: flask-waitress in /usr/local/lib/python3.7/dist-packages (0.0.1)\n",
            "Requirement already satisfied: waitress in /usr/local/lib/python3.7/dist-packages (from flask-waitress) (2.1.2)\n",
            "Requirement already satisfied: flask>=0.9 in /usr/local/lib/python3.7/dist-packages (from flask-waitress) (1.1.4)\n",
            "Requirement already satisfied: paste>=1.7 in /usr/local/lib/python3.7/dist-packages (from flask-waitress) (3.5.1)\n",
            "Requirement already satisfied: Werkzeug<2.0,>=0.15 in /usr/local/lib/python3.7/dist-packages (from flask>=0.9->flask-waitress) (1.0.1)\n",
            "Requirement already satisfied: itsdangerous<2.0,>=0.24 in /usr/local/lib/python3.7/dist-packages (from flask>=0.9->flask-waitress) (1.1.0)\n",
            "Requirement already satisfied: click<8.0,>=5.1 in /usr/local/lib/python3.7/dist-packages (from flask>=0.9->flask-waitress) (7.1.2)\n",
            "Requirement already satisfied: Jinja2<3.0,>=2.10.1 in /usr/local/lib/python3.7/dist-packages (from flask>=0.9->flask-waitress) (2.11.3)\n",
            "Requirement already satisfied: MarkupSafe>=0.23 in /usr/local/lib/python3.7/dist-packages (from Jinja2<3.0,>=2.10.1->flask>=0.9->flask-waitress) (2.0.1)\n",
            "Requirement already satisfied: six>=1.4.0 in /usr/local/lib/python3.7/dist-packages (from paste>=1.7->flask-waitress) (1.15.0)\n",
            "Requirement already satisfied: setuptools in /usr/local/lib/python3.7/dist-packages (from paste>=1.7->flask-waitress) (57.4.0)\n"
          ]
        }
      ]
    },
    {
      "cell_type": "code",
      "source": [
        "!ls"
      ],
      "metadata": {
        "colab": {
          "base_uri": "https://localhost:8080/"
        },
        "id": "3zpNrwqOGuuF",
        "outputId": "23993e77-d184-4860-96d3-c88739d469ac"
      },
      "execution_count": 46,
      "outputs": [
        {
          "output_type": "stream",
          "name": "stdout",
          "text": [
            "app.ipynb\t\t\t\t  temperature.html\n",
            "Pakistan_temperature_predictor_model.pkl  tempreture_1901_2016_pakistan.csv\n",
            "sample_data\n"
          ]
        }
      ]
    },
    {
      "cell_type": "code",
      "source": [
        "!ngrok config add-authtoken 2C8HYH9xXDD8PXyZJfwj9Y8t5ER_iZGtSXT5cHXz4u7qUq42"
      ],
      "metadata": {
        "colab": {
          "base_uri": "https://localhost:8080/"
        },
        "id": "-BHamzbdGw4p",
        "outputId": "0e49a6d1-53f1-44ab-b844-40b1e4dd4a40"
      },
      "execution_count": 10,
      "outputs": [
        {
          "output_type": "stream",
          "name": "stdout",
          "text": [
            "/bin/bash: ngrok: command not found\n"
          ]
        }
      ]
    },
    {
      "cell_type": "code",
      "source": [
        "# in ngrok.yml\n",
        "!authtoken: 2C8HYH9xXDD8PXyZJfwj9Y8t5ER_iZGtSXT5cHXz4u7qUq42"
      ],
      "metadata": {
        "colab": {
          "base_uri": "https://localhost:8080/"
        },
        "id": "nFNCRnhKJ7M4",
        "outputId": "e0c758c5-b15c-4c8e-f49e-07ff699a27bb"
      },
      "execution_count": 23,
      "outputs": [
        {
          "output_type": "stream",
          "name": "stdout",
          "text": [
            "/bin/bash: authtoken:: command not found\n"
          ]
        }
      ]
    },
    {
      "cell_type": "code",
      "source": [
        "!ngrok http 80"
      ],
      "metadata": {
        "colab": {
          "base_uri": "https://localhost:8080/"
        },
        "id": "GD5lRoAOJYDf",
        "outputId": "05f3dd65-3d91-4245-f130-ff7162cd1504"
      },
      "execution_count": 21,
      "outputs": [
        {
          "output_type": "stream",
          "name": "stdout",
          "text": [
            "/bin/bash: ngrok: command not found\n"
          ]
        }
      ]
    },
    {
      "cell_type": "code",
      "execution_count": 47,
      "metadata": {
        "id": "sSHnQoMwghzP"
      },
      "outputs": [],
      "source": [
        "#!/usr/bin/env python\n",
        "# coding: utf-8\n",
        "\n",
        "# In[9]:\n",
        "\n",
        "from flask import Flask, render_template, request\n",
        "import numpy as np\n",
        "import pandas as pd\n",
        "import joblib\n",
        "import pickle"
      ]
    },
    {
      "cell_type": "code",
      "source": [
        "app = Flask(__name__, template_folder = 'template')"
      ],
      "metadata": {
        "id": "yMjZyGvGDUd0"
      },
      "execution_count": 48,
      "outputs": []
    },
    {
      "cell_type": "code",
      "source": [
        "model = joblib.load(open('Pakistan_temperature_predictor_model.pkl', 'rb'))"
      ],
      "metadata": {
        "id": "GP619uQJDb5g"
      },
      "execution_count": 49,
      "outputs": []
    },
    {
      "cell_type": "code",
      "source": [
        "mydata = pd.read_csv(r'tempreture_1901_2016_pakistan.csv')\n",
        "df = pd.DataFrame(mydata, columns = ['Temperature - (Celsius)','Year','Month'])"
      ],
      "metadata": {
        "id": "__WCJ1jM9pbq"
      },
      "execution_count": 50,
      "outputs": []
    },
    {
      "cell_type": "code",
      "source": [
        "# In[11]:\n",
        "\n",
        "app = Flask(__name__, template_folder = 'template')\n",
        "\n",
        "@app.route('/')\n",
        "def home():\n",
        "    return render_template('temperature.html')\n",
        "@app.route('/', methods=['POST'])\n",
        "def predict():\n",
        "    a = np.array(df['Month'], df['Year'])\n",
        "    b = np.array(df['Temperature - (Celsius)'].values.tolist())\n",
        "    data1 = request.form['a']\n",
        "    data2 = request.form['b']\n",
        "    arr = np.array([[data1, data2]])\n",
        "    pred = model.predict(arr)\n",
        "    \n",
        "    \n",
        "    #If the output is negative, the values entered are unreasonable to the context of the application\n",
        "    #If the output is greater than 0, return prediction\n",
        "    if pred < 0:\n",
        "        return render_template('temperature.html', prediction_text = \"Prediction is negative, values entered are not correct\")\n",
        "    elif pred >= 0:\n",
        "        return render_template('temperature.html', prediction_text = 'Predicted Temperature is: ${}'.format(pred))\n",
        "\n",
        "if __name__ == \"__main__\":\n",
        "    from waitress import serve\n",
        "    #serve(app, host=\"0.0.0.0\", port=8080)\n",
        "    app.debug==True;\n",
        "    app.run()"
      ],
      "metadata": {
        "colab": {
          "base_uri": "https://localhost:8080/"
        },
        "id": "d2SSFw47hJxw",
        "outputId": "735c0fad-b4e0-45eb-c3fc-07ac95483c5e"
      },
      "execution_count": null,
      "outputs": [
        {
          "output_type": "stream",
          "name": "stdout",
          "text": [
            " * Serving Flask app \"__main__\" (lazy loading)\n",
            " * Environment: production\n",
            "\u001b[31m   WARNING: This is a development server. Do not use it in a production deployment.\u001b[0m\n",
            "\u001b[2m   Use a production WSGI server instead.\u001b[0m\n",
            " * Debug mode: off\n"
          ]
        },
        {
          "output_type": "stream",
          "name": "stderr",
          "text": [
            "INFO:werkzeug: * Running on http://127.0.0.1:5000/ (Press CTRL+C to quit)\n"
          ]
        }
      ]
    }
  ]
}