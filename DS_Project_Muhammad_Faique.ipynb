{
  "cells": [
    {
      "cell_type": "code",
      "execution_count": 1,
      "id": "320c17f0",
      "metadata": {
        "id": "320c17f0"
      },
      "outputs": [],
      "source": [
        "import pandas as pd\n",
        "import numpy as np\n",
        "import matplotlib.pyplot as plt\n"
      ]
    },
    {
      "cell_type": "code",
      "execution_count": 170,
      "id": "06607c89",
      "metadata": {
        "id": "06607c89"
      },
      "outputs": [],
      "source": [
        "# Read the file into a DataFrame: mydata and store dataframe in df\n",
        "mydata = pd.read_csv(r'tempreture_1901_2016_pakistan.csv')\n",
        "df = pd.DataFrame(mydata, columns = ['Temperature - (Celsius)','Year','Month'])"
      ]
    },
    {
      "cell_type": "markdown",
      "id": "e4c12327",
      "metadata": {
        "id": "e4c12327"
      },
      "source": [
        "# Classification of Data\n"
      ]
    },
    {
      "cell_type": "code",
      "execution_count": 3,
      "id": "78afddab",
      "metadata": {
        "colab": {
          "base_uri": "https://localhost:8080/"
        },
        "id": "78afddab",
        "outputId": "3abea500-add8-4b08-b7c0-7ec297690d91"
      },
      "outputs": [
        {
          "output_type": "stream",
          "name": "stdout",
          "text": [
            "      Temperature - (Celsius)  Year      Month\n",
            "0                     7.72768  1901    January\n",
            "1                     8.93600  1901   February\n",
            "2                    16.96320  1901      March\n",
            "3                    21.27410  1901      April\n",
            "4                    26.04970  1901        May\n",
            "...                       ...   ...        ...\n",
            "1387                 27.63320  2016     August\n",
            "1388                 26.71790  2016  September\n",
            "1389                 22.39820  2016    October\n",
            "1390                 15.76720  2016   November\n",
            "1391                 12.87630  2016   December\n",
            "\n",
            "[1392 rows x 3 columns]\n"
          ]
        }
      ],
      "source": [
        "print(df)"
      ]
    },
    {
      "cell_type": "code",
      "execution_count": 4,
      "id": "74a6a7ee",
      "metadata": {
        "colab": {
          "base_uri": "https://localhost:8080/",
          "height": 0
        },
        "id": "74a6a7ee",
        "outputId": "20789033-0807-4185-e063-8794b38522f2"
      },
      "outputs": [
        {
          "output_type": "execute_result",
          "data": {
            "text/plain": [
              "   Temperature - (Celsius)  Year     Month\n",
              "0                  7.72768  1901   January\n",
              "1                  8.93600  1901  February\n",
              "2                 16.96320  1901     March\n",
              "3                 21.27410  1901     April\n",
              "4                 26.04970  1901       May"
            ],
            "text/html": [
              "\n",
              "  <div id=\"df-9c636109-dfe9-40cc-a9ee-0ba58d3e5461\">\n",
              "    <div class=\"colab-df-container\">\n",
              "      <div>\n",
              "<style scoped>\n",
              "    .dataframe tbody tr th:only-of-type {\n",
              "        vertical-align: middle;\n",
              "    }\n",
              "\n",
              "    .dataframe tbody tr th {\n",
              "        vertical-align: top;\n",
              "    }\n",
              "\n",
              "    .dataframe thead th {\n",
              "        text-align: right;\n",
              "    }\n",
              "</style>\n",
              "<table border=\"1\" class=\"dataframe\">\n",
              "  <thead>\n",
              "    <tr style=\"text-align: right;\">\n",
              "      <th></th>\n",
              "      <th>Temperature - (Celsius)</th>\n",
              "      <th>Year</th>\n",
              "      <th>Month</th>\n",
              "    </tr>\n",
              "  </thead>\n",
              "  <tbody>\n",
              "    <tr>\n",
              "      <th>0</th>\n",
              "      <td>7.72768</td>\n",
              "      <td>1901</td>\n",
              "      <td>January</td>\n",
              "    </tr>\n",
              "    <tr>\n",
              "      <th>1</th>\n",
              "      <td>8.93600</td>\n",
              "      <td>1901</td>\n",
              "      <td>February</td>\n",
              "    </tr>\n",
              "    <tr>\n",
              "      <th>2</th>\n",
              "      <td>16.96320</td>\n",
              "      <td>1901</td>\n",
              "      <td>March</td>\n",
              "    </tr>\n",
              "    <tr>\n",
              "      <th>3</th>\n",
              "      <td>21.27410</td>\n",
              "      <td>1901</td>\n",
              "      <td>April</td>\n",
              "    </tr>\n",
              "    <tr>\n",
              "      <th>4</th>\n",
              "      <td>26.04970</td>\n",
              "      <td>1901</td>\n",
              "      <td>May</td>\n",
              "    </tr>\n",
              "  </tbody>\n",
              "</table>\n",
              "</div>\n",
              "      <button class=\"colab-df-convert\" onclick=\"convertToInteractive('df-9c636109-dfe9-40cc-a9ee-0ba58d3e5461')\"\n",
              "              title=\"Convert this dataframe to an interactive table.\"\n",
              "              style=\"display:none;\">\n",
              "        \n",
              "  <svg xmlns=\"http://www.w3.org/2000/svg\" height=\"24px\"viewBox=\"0 0 24 24\"\n",
              "       width=\"24px\">\n",
              "    <path d=\"M0 0h24v24H0V0z\" fill=\"none\"/>\n",
              "    <path d=\"M18.56 5.44l.94 2.06.94-2.06 2.06-.94-2.06-.94-.94-2.06-.94 2.06-2.06.94zm-11 1L8.5 8.5l.94-2.06 2.06-.94-2.06-.94L8.5 2.5l-.94 2.06-2.06.94zm10 10l.94 2.06.94-2.06 2.06-.94-2.06-.94-.94-2.06-.94 2.06-2.06.94z\"/><path d=\"M17.41 7.96l-1.37-1.37c-.4-.4-.92-.59-1.43-.59-.52 0-1.04.2-1.43.59L10.3 9.45l-7.72 7.72c-.78.78-.78 2.05 0 2.83L4 21.41c.39.39.9.59 1.41.59.51 0 1.02-.2 1.41-.59l7.78-7.78 2.81-2.81c.8-.78.8-2.07 0-2.86zM5.41 20L4 18.59l7.72-7.72 1.47 1.35L5.41 20z\"/>\n",
              "  </svg>\n",
              "      </button>\n",
              "      \n",
              "  <style>\n",
              "    .colab-df-container {\n",
              "      display:flex;\n",
              "      flex-wrap:wrap;\n",
              "      gap: 12px;\n",
              "    }\n",
              "\n",
              "    .colab-df-convert {\n",
              "      background-color: #E8F0FE;\n",
              "      border: none;\n",
              "      border-radius: 50%;\n",
              "      cursor: pointer;\n",
              "      display: none;\n",
              "      fill: #1967D2;\n",
              "      height: 32px;\n",
              "      padding: 0 0 0 0;\n",
              "      width: 32px;\n",
              "    }\n",
              "\n",
              "    .colab-df-convert:hover {\n",
              "      background-color: #E2EBFA;\n",
              "      box-shadow: 0px 1px 2px rgba(60, 64, 67, 0.3), 0px 1px 3px 1px rgba(60, 64, 67, 0.15);\n",
              "      fill: #174EA6;\n",
              "    }\n",
              "\n",
              "    [theme=dark] .colab-df-convert {\n",
              "      background-color: #3B4455;\n",
              "      fill: #D2E3FC;\n",
              "    }\n",
              "\n",
              "    [theme=dark] .colab-df-convert:hover {\n",
              "      background-color: #434B5C;\n",
              "      box-shadow: 0px 1px 3px 1px rgba(0, 0, 0, 0.15);\n",
              "      filter: drop-shadow(0px 1px 2px rgba(0, 0, 0, 0.3));\n",
              "      fill: #FFFFFF;\n",
              "    }\n",
              "  </style>\n",
              "\n",
              "      <script>\n",
              "        const buttonEl =\n",
              "          document.querySelector('#df-9c636109-dfe9-40cc-a9ee-0ba58d3e5461 button.colab-df-convert');\n",
              "        buttonEl.style.display =\n",
              "          google.colab.kernel.accessAllowed ? 'block' : 'none';\n",
              "\n",
              "        async function convertToInteractive(key) {\n",
              "          const element = document.querySelector('#df-9c636109-dfe9-40cc-a9ee-0ba58d3e5461');\n",
              "          const dataTable =\n",
              "            await google.colab.kernel.invokeFunction('convertToInteractive',\n",
              "                                                     [key], {});\n",
              "          if (!dataTable) return;\n",
              "\n",
              "          const docLinkHtml = 'Like what you see? Visit the ' +\n",
              "            '<a target=\"_blank\" href=https://colab.research.google.com/notebooks/data_table.ipynb>data table notebook</a>'\n",
              "            + ' to learn more about interactive tables.';\n",
              "          element.innerHTML = '';\n",
              "          dataTable['output_type'] = 'display_data';\n",
              "          await google.colab.output.renderOutput(dataTable, element);\n",
              "          const docLink = document.createElement('div');\n",
              "          docLink.innerHTML = docLinkHtml;\n",
              "          element.appendChild(docLink);\n",
              "        }\n",
              "      </script>\n",
              "    </div>\n",
              "  </div>\n",
              "  "
            ]
          },
          "metadata": {},
          "execution_count": 4
        }
      ],
      "source": [
        "df.head()"
      ]
    },
    {
      "cell_type": "code",
      "execution_count": 5,
      "id": "74f6a886",
      "metadata": {
        "colab": {
          "base_uri": "https://localhost:8080/",
          "height": 0
        },
        "id": "74f6a886",
        "outputId": "737b39fd-c5a6-4643-afb8-02448ed526d6"
      },
      "outputs": [
        {
          "output_type": "execute_result",
          "data": {
            "text/plain": [
              "      Temperature - (Celsius)  Year      Month\n",
              "1387                  27.6332  2016     August\n",
              "1388                  26.7179  2016  September\n",
              "1389                  22.3982  2016    October\n",
              "1390                  15.7672  2016   November\n",
              "1391                  12.8763  2016   December"
            ],
            "text/html": [
              "\n",
              "  <div id=\"df-ad873c21-50bb-4e6a-bf4c-d91ab3268304\">\n",
              "    <div class=\"colab-df-container\">\n",
              "      <div>\n",
              "<style scoped>\n",
              "    .dataframe tbody tr th:only-of-type {\n",
              "        vertical-align: middle;\n",
              "    }\n",
              "\n",
              "    .dataframe tbody tr th {\n",
              "        vertical-align: top;\n",
              "    }\n",
              "\n",
              "    .dataframe thead th {\n",
              "        text-align: right;\n",
              "    }\n",
              "</style>\n",
              "<table border=\"1\" class=\"dataframe\">\n",
              "  <thead>\n",
              "    <tr style=\"text-align: right;\">\n",
              "      <th></th>\n",
              "      <th>Temperature - (Celsius)</th>\n",
              "      <th>Year</th>\n",
              "      <th>Month</th>\n",
              "    </tr>\n",
              "  </thead>\n",
              "  <tbody>\n",
              "    <tr>\n",
              "      <th>1387</th>\n",
              "      <td>27.6332</td>\n",
              "      <td>2016</td>\n",
              "      <td>August</td>\n",
              "    </tr>\n",
              "    <tr>\n",
              "      <th>1388</th>\n",
              "      <td>26.7179</td>\n",
              "      <td>2016</td>\n",
              "      <td>September</td>\n",
              "    </tr>\n",
              "    <tr>\n",
              "      <th>1389</th>\n",
              "      <td>22.3982</td>\n",
              "      <td>2016</td>\n",
              "      <td>October</td>\n",
              "    </tr>\n",
              "    <tr>\n",
              "      <th>1390</th>\n",
              "      <td>15.7672</td>\n",
              "      <td>2016</td>\n",
              "      <td>November</td>\n",
              "    </tr>\n",
              "    <tr>\n",
              "      <th>1391</th>\n",
              "      <td>12.8763</td>\n",
              "      <td>2016</td>\n",
              "      <td>December</td>\n",
              "    </tr>\n",
              "  </tbody>\n",
              "</table>\n",
              "</div>\n",
              "      <button class=\"colab-df-convert\" onclick=\"convertToInteractive('df-ad873c21-50bb-4e6a-bf4c-d91ab3268304')\"\n",
              "              title=\"Convert this dataframe to an interactive table.\"\n",
              "              style=\"display:none;\">\n",
              "        \n",
              "  <svg xmlns=\"http://www.w3.org/2000/svg\" height=\"24px\"viewBox=\"0 0 24 24\"\n",
              "       width=\"24px\">\n",
              "    <path d=\"M0 0h24v24H0V0z\" fill=\"none\"/>\n",
              "    <path d=\"M18.56 5.44l.94 2.06.94-2.06 2.06-.94-2.06-.94-.94-2.06-.94 2.06-2.06.94zm-11 1L8.5 8.5l.94-2.06 2.06-.94-2.06-.94L8.5 2.5l-.94 2.06-2.06.94zm10 10l.94 2.06.94-2.06 2.06-.94-2.06-.94-.94-2.06-.94 2.06-2.06.94z\"/><path d=\"M17.41 7.96l-1.37-1.37c-.4-.4-.92-.59-1.43-.59-.52 0-1.04.2-1.43.59L10.3 9.45l-7.72 7.72c-.78.78-.78 2.05 0 2.83L4 21.41c.39.39.9.59 1.41.59.51 0 1.02-.2 1.41-.59l7.78-7.78 2.81-2.81c.8-.78.8-2.07 0-2.86zM5.41 20L4 18.59l7.72-7.72 1.47 1.35L5.41 20z\"/>\n",
              "  </svg>\n",
              "      </button>\n",
              "      \n",
              "  <style>\n",
              "    .colab-df-container {\n",
              "      display:flex;\n",
              "      flex-wrap:wrap;\n",
              "      gap: 12px;\n",
              "    }\n",
              "\n",
              "    .colab-df-convert {\n",
              "      background-color: #E8F0FE;\n",
              "      border: none;\n",
              "      border-radius: 50%;\n",
              "      cursor: pointer;\n",
              "      display: none;\n",
              "      fill: #1967D2;\n",
              "      height: 32px;\n",
              "      padding: 0 0 0 0;\n",
              "      width: 32px;\n",
              "    }\n",
              "\n",
              "    .colab-df-convert:hover {\n",
              "      background-color: #E2EBFA;\n",
              "      box-shadow: 0px 1px 2px rgba(60, 64, 67, 0.3), 0px 1px 3px 1px rgba(60, 64, 67, 0.15);\n",
              "      fill: #174EA6;\n",
              "    }\n",
              "\n",
              "    [theme=dark] .colab-df-convert {\n",
              "      background-color: #3B4455;\n",
              "      fill: #D2E3FC;\n",
              "    }\n",
              "\n",
              "    [theme=dark] .colab-df-convert:hover {\n",
              "      background-color: #434B5C;\n",
              "      box-shadow: 0px 1px 3px 1px rgba(0, 0, 0, 0.15);\n",
              "      filter: drop-shadow(0px 1px 2px rgba(0, 0, 0, 0.3));\n",
              "      fill: #FFFFFF;\n",
              "    }\n",
              "  </style>\n",
              "\n",
              "      <script>\n",
              "        const buttonEl =\n",
              "          document.querySelector('#df-ad873c21-50bb-4e6a-bf4c-d91ab3268304 button.colab-df-convert');\n",
              "        buttonEl.style.display =\n",
              "          google.colab.kernel.accessAllowed ? 'block' : 'none';\n",
              "\n",
              "        async function convertToInteractive(key) {\n",
              "          const element = document.querySelector('#df-ad873c21-50bb-4e6a-bf4c-d91ab3268304');\n",
              "          const dataTable =\n",
              "            await google.colab.kernel.invokeFunction('convertToInteractive',\n",
              "                                                     [key], {});\n",
              "          if (!dataTable) return;\n",
              "\n",
              "          const docLinkHtml = 'Like what you see? Visit the ' +\n",
              "            '<a target=\"_blank\" href=https://colab.research.google.com/notebooks/data_table.ipynb>data table notebook</a>'\n",
              "            + ' to learn more about interactive tables.';\n",
              "          element.innerHTML = '';\n",
              "          dataTable['output_type'] = 'display_data';\n",
              "          await google.colab.output.renderOutput(dataTable, element);\n",
              "          const docLink = document.createElement('div');\n",
              "          docLink.innerHTML = docLinkHtml;\n",
              "          element.appendChild(docLink);\n",
              "        }\n",
              "      </script>\n",
              "    </div>\n",
              "  </div>\n",
              "  "
            ]
          },
          "metadata": {},
          "execution_count": 5
        }
      ],
      "source": [
        "df.tail()"
      ]
    },
    {
      "cell_type": "code",
      "execution_count": 6,
      "id": "06f182b0",
      "metadata": {
        "colab": {
          "base_uri": "https://localhost:8080/"
        },
        "id": "06f182b0",
        "outputId": "fcedbc51-eea3-4c7d-d3cf-691e4352f2c3"
      },
      "outputs": [
        {
          "output_type": "execute_result",
          "data": {
            "text/plain": [
              "(1392, 3)"
            ]
          },
          "metadata": {},
          "execution_count": 6
        }
      ],
      "source": [
        "df.shape"
      ]
    },
    {
      "cell_type": "code",
      "execution_count": 7,
      "id": "de3f3949",
      "metadata": {
        "colab": {
          "base_uri": "https://localhost:8080/"
        },
        "id": "de3f3949",
        "outputId": "360021a7-9f22-422a-a1c5-0eb46d06854d"
      },
      "outputs": [
        {
          "output_type": "execute_result",
          "data": {
            "text/plain": [
              "Index(['Temperature - (Celsius)', 'Year', 'Month'], dtype='object')"
            ]
          },
          "metadata": {},
          "execution_count": 7
        }
      ],
      "source": [
        "df.columns"
      ]
    },
    {
      "cell_type": "code",
      "execution_count": 8,
      "id": "4e25452a",
      "metadata": {
        "id": "4e25452a"
      },
      "outputs": [],
      "source": [
        "# Frequency count for Categorical Data"
      ]
    },
    {
      "cell_type": "code",
      "execution_count": 9,
      "id": "6d4341fd",
      "metadata": {
        "colab": {
          "base_uri": "https://localhost:8080/"
        },
        "id": "6d4341fd",
        "outputId": "16c556bc-7077-4529-b359-0796cb1b2b79"
      },
      "outputs": [
        {
          "output_type": "stream",
          "name": "stdout",
          "text": [
            "27.6078    2\n",
            "27.7522    2\n",
            "20.5152    2\n",
            "25.0969    2\n",
            "28.9070    1\n",
            "          ..\n",
            "28.0987    1\n",
            "28.8703    1\n",
            "29.2542    1\n",
            "25.8970    1\n",
            "12.8763    1\n",
            "Name: Temperature - (Celsius), Length: 1388, dtype: int64\n",
            "(1392,)\n"
          ]
        }
      ],
      "source": [
        "print(df['Temperature - (Celsius)'].value_counts(dropna=False))\n",
        "\n",
        "print(df['Temperature - (Celsius)'].shape)"
      ]
    },
    {
      "cell_type": "code",
      "execution_count": 10,
      "id": "55ad7cef",
      "metadata": {
        "colab": {
          "base_uri": "https://localhost:8080/"
        },
        "id": "55ad7cef",
        "outputId": "6c9d04eb-b57c-4834-b57d-725d233a126e"
      },
      "outputs": [
        {
          "output_type": "stream",
          "name": "stdout",
          "text": [
            "1901    12\n",
            "1974    12\n",
            "1986    12\n",
            "1985    12\n",
            "1984    12\n",
            "        ..\n",
            "1935    12\n",
            "1934    12\n",
            "1933    12\n",
            "1932    12\n",
            "2016    12\n",
            "Name: Year, Length: 116, dtype: int64\n",
            "(1392,)\n"
          ]
        }
      ],
      "source": [
        "print(df['Year'].value_counts(dropna=False))\n",
        "\n",
        "print(df['Year'].shape)"
      ]
    },
    {
      "cell_type": "code",
      "execution_count": 11,
      "id": "c8079112",
      "metadata": {
        "colab": {
          "base_uri": "https://localhost:8080/"
        },
        "id": "c8079112",
        "outputId": "688519fc-88b0-4381-ffeb-f256954125fb"
      },
      "outputs": [
        {
          "output_type": "stream",
          "name": "stdout",
          "text": [
            "January      116\n",
            "February     116\n",
            "March        116\n",
            "April        116\n",
            "May          116\n",
            "June         116\n",
            "July         116\n",
            "August       116\n",
            "September    116\n",
            "October      116\n",
            "November     116\n",
            "December     116\n",
            "Name: Month, dtype: int64\n",
            "(1392,)\n"
          ]
        }
      ],
      "source": [
        "print(df['Month'].value_counts(dropna=False))\n",
        "\n",
        "print(df['Month'].shape)"
      ]
    },
    {
      "cell_type": "markdown",
      "id": "5cdd88ee",
      "metadata": {
        "id": "5cdd88ee"
      },
      "source": [
        "# Analyzing missing values and noisy data\n"
      ]
    },
    {
      "cell_type": "code",
      "execution_count": 12,
      "id": "e97f91f5",
      "metadata": {
        "colab": {
          "base_uri": "https://localhost:8080/",
          "height": 0
        },
        "id": "e97f91f5",
        "outputId": "36b86b31-a79b-4880-ef8e-58defd855b02"
      },
      "outputs": [
        {
          "output_type": "execute_result",
          "data": {
            "text/plain": [
              "      Temperature - (Celsius)   Year  Month\n",
              "0                       False  False  False\n",
              "1                       False  False  False\n",
              "2                       False  False  False\n",
              "3                       False  False  False\n",
              "4                       False  False  False\n",
              "...                       ...    ...    ...\n",
              "1387                    False  False  False\n",
              "1388                    False  False  False\n",
              "1389                    False  False  False\n",
              "1390                    False  False  False\n",
              "1391                    False  False  False\n",
              "\n",
              "[1392 rows x 3 columns]"
            ],
            "text/html": [
              "\n",
              "  <div id=\"df-f87863a0-556d-44e5-8ae0-a5b647bf2874\">\n",
              "    <div class=\"colab-df-container\">\n",
              "      <div>\n",
              "<style scoped>\n",
              "    .dataframe tbody tr th:only-of-type {\n",
              "        vertical-align: middle;\n",
              "    }\n",
              "\n",
              "    .dataframe tbody tr th {\n",
              "        vertical-align: top;\n",
              "    }\n",
              "\n",
              "    .dataframe thead th {\n",
              "        text-align: right;\n",
              "    }\n",
              "</style>\n",
              "<table border=\"1\" class=\"dataframe\">\n",
              "  <thead>\n",
              "    <tr style=\"text-align: right;\">\n",
              "      <th></th>\n",
              "      <th>Temperature - (Celsius)</th>\n",
              "      <th>Year</th>\n",
              "      <th>Month</th>\n",
              "    </tr>\n",
              "  </thead>\n",
              "  <tbody>\n",
              "    <tr>\n",
              "      <th>0</th>\n",
              "      <td>False</td>\n",
              "      <td>False</td>\n",
              "      <td>False</td>\n",
              "    </tr>\n",
              "    <tr>\n",
              "      <th>1</th>\n",
              "      <td>False</td>\n",
              "      <td>False</td>\n",
              "      <td>False</td>\n",
              "    </tr>\n",
              "    <tr>\n",
              "      <th>2</th>\n",
              "      <td>False</td>\n",
              "      <td>False</td>\n",
              "      <td>False</td>\n",
              "    </tr>\n",
              "    <tr>\n",
              "      <th>3</th>\n",
              "      <td>False</td>\n",
              "      <td>False</td>\n",
              "      <td>False</td>\n",
              "    </tr>\n",
              "    <tr>\n",
              "      <th>4</th>\n",
              "      <td>False</td>\n",
              "      <td>False</td>\n",
              "      <td>False</td>\n",
              "    </tr>\n",
              "    <tr>\n",
              "      <th>...</th>\n",
              "      <td>...</td>\n",
              "      <td>...</td>\n",
              "      <td>...</td>\n",
              "    </tr>\n",
              "    <tr>\n",
              "      <th>1387</th>\n",
              "      <td>False</td>\n",
              "      <td>False</td>\n",
              "      <td>False</td>\n",
              "    </tr>\n",
              "    <tr>\n",
              "      <th>1388</th>\n",
              "      <td>False</td>\n",
              "      <td>False</td>\n",
              "      <td>False</td>\n",
              "    </tr>\n",
              "    <tr>\n",
              "      <th>1389</th>\n",
              "      <td>False</td>\n",
              "      <td>False</td>\n",
              "      <td>False</td>\n",
              "    </tr>\n",
              "    <tr>\n",
              "      <th>1390</th>\n",
              "      <td>False</td>\n",
              "      <td>False</td>\n",
              "      <td>False</td>\n",
              "    </tr>\n",
              "    <tr>\n",
              "      <th>1391</th>\n",
              "      <td>False</td>\n",
              "      <td>False</td>\n",
              "      <td>False</td>\n",
              "    </tr>\n",
              "  </tbody>\n",
              "</table>\n",
              "<p>1392 rows × 3 columns</p>\n",
              "</div>\n",
              "      <button class=\"colab-df-convert\" onclick=\"convertToInteractive('df-f87863a0-556d-44e5-8ae0-a5b647bf2874')\"\n",
              "              title=\"Convert this dataframe to an interactive table.\"\n",
              "              style=\"display:none;\">\n",
              "        \n",
              "  <svg xmlns=\"http://www.w3.org/2000/svg\" height=\"24px\"viewBox=\"0 0 24 24\"\n",
              "       width=\"24px\">\n",
              "    <path d=\"M0 0h24v24H0V0z\" fill=\"none\"/>\n",
              "    <path d=\"M18.56 5.44l.94 2.06.94-2.06 2.06-.94-2.06-.94-.94-2.06-.94 2.06-2.06.94zm-11 1L8.5 8.5l.94-2.06 2.06-.94-2.06-.94L8.5 2.5l-.94 2.06-2.06.94zm10 10l.94 2.06.94-2.06 2.06-.94-2.06-.94-.94-2.06-.94 2.06-2.06.94z\"/><path d=\"M17.41 7.96l-1.37-1.37c-.4-.4-.92-.59-1.43-.59-.52 0-1.04.2-1.43.59L10.3 9.45l-7.72 7.72c-.78.78-.78 2.05 0 2.83L4 21.41c.39.39.9.59 1.41.59.51 0 1.02-.2 1.41-.59l7.78-7.78 2.81-2.81c.8-.78.8-2.07 0-2.86zM5.41 20L4 18.59l7.72-7.72 1.47 1.35L5.41 20z\"/>\n",
              "  </svg>\n",
              "      </button>\n",
              "      \n",
              "  <style>\n",
              "    .colab-df-container {\n",
              "      display:flex;\n",
              "      flex-wrap:wrap;\n",
              "      gap: 12px;\n",
              "    }\n",
              "\n",
              "    .colab-df-convert {\n",
              "      background-color: #E8F0FE;\n",
              "      border: none;\n",
              "      border-radius: 50%;\n",
              "      cursor: pointer;\n",
              "      display: none;\n",
              "      fill: #1967D2;\n",
              "      height: 32px;\n",
              "      padding: 0 0 0 0;\n",
              "      width: 32px;\n",
              "    }\n",
              "\n",
              "    .colab-df-convert:hover {\n",
              "      background-color: #E2EBFA;\n",
              "      box-shadow: 0px 1px 2px rgba(60, 64, 67, 0.3), 0px 1px 3px 1px rgba(60, 64, 67, 0.15);\n",
              "      fill: #174EA6;\n",
              "    }\n",
              "\n",
              "    [theme=dark] .colab-df-convert {\n",
              "      background-color: #3B4455;\n",
              "      fill: #D2E3FC;\n",
              "    }\n",
              "\n",
              "    [theme=dark] .colab-df-convert:hover {\n",
              "      background-color: #434B5C;\n",
              "      box-shadow: 0px 1px 3px 1px rgba(0, 0, 0, 0.15);\n",
              "      filter: drop-shadow(0px 1px 2px rgba(0, 0, 0, 0.3));\n",
              "      fill: #FFFFFF;\n",
              "    }\n",
              "  </style>\n",
              "\n",
              "      <script>\n",
              "        const buttonEl =\n",
              "          document.querySelector('#df-f87863a0-556d-44e5-8ae0-a5b647bf2874 button.colab-df-convert');\n",
              "        buttonEl.style.display =\n",
              "          google.colab.kernel.accessAllowed ? 'block' : 'none';\n",
              "\n",
              "        async function convertToInteractive(key) {\n",
              "          const element = document.querySelector('#df-f87863a0-556d-44e5-8ae0-a5b647bf2874');\n",
              "          const dataTable =\n",
              "            await google.colab.kernel.invokeFunction('convertToInteractive',\n",
              "                                                     [key], {});\n",
              "          if (!dataTable) return;\n",
              "\n",
              "          const docLinkHtml = 'Like what you see? Visit the ' +\n",
              "            '<a target=\"_blank\" href=https://colab.research.google.com/notebooks/data_table.ipynb>data table notebook</a>'\n",
              "            + ' to learn more about interactive tables.';\n",
              "          element.innerHTML = '';\n",
              "          dataTable['output_type'] = 'display_data';\n",
              "          await google.colab.output.renderOutput(dataTable, element);\n",
              "          const docLink = document.createElement('div');\n",
              "          docLink.innerHTML = docLinkHtml;\n",
              "          element.appendChild(docLink);\n",
              "        }\n",
              "      </script>\n",
              "    </div>\n",
              "  </div>\n",
              "  "
            ]
          },
          "metadata": {},
          "execution_count": 12
        }
      ],
      "source": [
        "df.isna()"
      ]
    },
    {
      "cell_type": "code",
      "execution_count": 13,
      "id": "994303ee",
      "metadata": {
        "colab": {
          "base_uri": "https://localhost:8080/",
          "height": 0
        },
        "id": "994303ee",
        "outputId": "67a43609-56d0-4236-addc-19301850fadf"
      },
      "outputs": [
        {
          "output_type": "execute_result",
          "data": {
            "text/plain": [
              "Empty DataFrame\n",
              "Columns: [Temperature - (Celsius), Year, Month]\n",
              "Index: []"
            ],
            "text/html": [
              "\n",
              "  <div id=\"df-9fa82b86-f165-4933-9228-f7b00c927193\">\n",
              "    <div class=\"colab-df-container\">\n",
              "      <div>\n",
              "<style scoped>\n",
              "    .dataframe tbody tr th:only-of-type {\n",
              "        vertical-align: middle;\n",
              "    }\n",
              "\n",
              "    .dataframe tbody tr th {\n",
              "        vertical-align: top;\n",
              "    }\n",
              "\n",
              "    .dataframe thead th {\n",
              "        text-align: right;\n",
              "    }\n",
              "</style>\n",
              "<table border=\"1\" class=\"dataframe\">\n",
              "  <thead>\n",
              "    <tr style=\"text-align: right;\">\n",
              "      <th></th>\n",
              "      <th>Temperature - (Celsius)</th>\n",
              "      <th>Year</th>\n",
              "      <th>Month</th>\n",
              "    </tr>\n",
              "  </thead>\n",
              "  <tbody>\n",
              "  </tbody>\n",
              "</table>\n",
              "</div>\n",
              "      <button class=\"colab-df-convert\" onclick=\"convertToInteractive('df-9fa82b86-f165-4933-9228-f7b00c927193')\"\n",
              "              title=\"Convert this dataframe to an interactive table.\"\n",
              "              style=\"display:none;\">\n",
              "        \n",
              "  <svg xmlns=\"http://www.w3.org/2000/svg\" height=\"24px\"viewBox=\"0 0 24 24\"\n",
              "       width=\"24px\">\n",
              "    <path d=\"M0 0h24v24H0V0z\" fill=\"none\"/>\n",
              "    <path d=\"M18.56 5.44l.94 2.06.94-2.06 2.06-.94-2.06-.94-.94-2.06-.94 2.06-2.06.94zm-11 1L8.5 8.5l.94-2.06 2.06-.94-2.06-.94L8.5 2.5l-.94 2.06-2.06.94zm10 10l.94 2.06.94-2.06 2.06-.94-2.06-.94-.94-2.06-.94 2.06-2.06.94z\"/><path d=\"M17.41 7.96l-1.37-1.37c-.4-.4-.92-.59-1.43-.59-.52 0-1.04.2-1.43.59L10.3 9.45l-7.72 7.72c-.78.78-.78 2.05 0 2.83L4 21.41c.39.39.9.59 1.41.59.51 0 1.02-.2 1.41-.59l7.78-7.78 2.81-2.81c.8-.78.8-2.07 0-2.86zM5.41 20L4 18.59l7.72-7.72 1.47 1.35L5.41 20z\"/>\n",
              "  </svg>\n",
              "      </button>\n",
              "      \n",
              "  <style>\n",
              "    .colab-df-container {\n",
              "      display:flex;\n",
              "      flex-wrap:wrap;\n",
              "      gap: 12px;\n",
              "    }\n",
              "\n",
              "    .colab-df-convert {\n",
              "      background-color: #E8F0FE;\n",
              "      border: none;\n",
              "      border-radius: 50%;\n",
              "      cursor: pointer;\n",
              "      display: none;\n",
              "      fill: #1967D2;\n",
              "      height: 32px;\n",
              "      padding: 0 0 0 0;\n",
              "      width: 32px;\n",
              "    }\n",
              "\n",
              "    .colab-df-convert:hover {\n",
              "      background-color: #E2EBFA;\n",
              "      box-shadow: 0px 1px 2px rgba(60, 64, 67, 0.3), 0px 1px 3px 1px rgba(60, 64, 67, 0.15);\n",
              "      fill: #174EA6;\n",
              "    }\n",
              "\n",
              "    [theme=dark] .colab-df-convert {\n",
              "      background-color: #3B4455;\n",
              "      fill: #D2E3FC;\n",
              "    }\n",
              "\n",
              "    [theme=dark] .colab-df-convert:hover {\n",
              "      background-color: #434B5C;\n",
              "      box-shadow: 0px 1px 3px 1px rgba(0, 0, 0, 0.15);\n",
              "      filter: drop-shadow(0px 1px 2px rgba(0, 0, 0, 0.3));\n",
              "      fill: #FFFFFF;\n",
              "    }\n",
              "  </style>\n",
              "\n",
              "      <script>\n",
              "        const buttonEl =\n",
              "          document.querySelector('#df-9fa82b86-f165-4933-9228-f7b00c927193 button.colab-df-convert');\n",
              "        buttonEl.style.display =\n",
              "          google.colab.kernel.accessAllowed ? 'block' : 'none';\n",
              "\n",
              "        async function convertToInteractive(key) {\n",
              "          const element = document.querySelector('#df-9fa82b86-f165-4933-9228-f7b00c927193');\n",
              "          const dataTable =\n",
              "            await google.colab.kernel.invokeFunction('convertToInteractive',\n",
              "                                                     [key], {});\n",
              "          if (!dataTable) return;\n",
              "\n",
              "          const docLinkHtml = 'Like what you see? Visit the ' +\n",
              "            '<a target=\"_blank\" href=https://colab.research.google.com/notebooks/data_table.ipynb>data table notebook</a>'\n",
              "            + ' to learn more about interactive tables.';\n",
              "          element.innerHTML = '';\n",
              "          dataTable['output_type'] = 'display_data';\n",
              "          await google.colab.output.renderOutput(dataTable, element);\n",
              "          const docLink = document.createElement('div');\n",
              "          docLink.innerHTML = docLinkHtml;\n",
              "          element.appendChild(docLink);\n",
              "        }\n",
              "      </script>\n",
              "    </div>\n",
              "  </div>\n",
              "  "
            ]
          },
          "metadata": {},
          "execution_count": 13
        }
      ],
      "source": [
        "# creating bool series True for NaN values\n",
        "bool_series = pd.isnull(df[\"Temperature - (Celsius)\"])\n",
        "# displaying data with empty strings = NaN\n",
        "df[bool_series]"
      ]
    },
    {
      "cell_type": "code",
      "execution_count": 14,
      "id": "53e3d896",
      "metadata": {
        "id": "53e3d896"
      },
      "outputs": [],
      "source": [
        "#As from above commands it can be seen that there are not any empty cells so no need to do interpolaion"
      ]
    },
    {
      "cell_type": "code",
      "execution_count": 15,
      "id": "503aee22",
      "metadata": {
        "id": "503aee22"
      },
      "outputs": [],
      "source": [
        "# Create the Histogram plot"
      ]
    },
    {
      "cell_type": "code",
      "execution_count": 16,
      "id": "4bc0bbba",
      "metadata": {
        "colab": {
          "base_uri": "https://localhost:8080/",
          "height": 0
        },
        "id": "4bc0bbba",
        "outputId": "d31d65fe-ce50-4df4-e33b-ae63dcc74938"
      },
      "outputs": [
        {
          "output_type": "execute_result",
          "data": {
            "text/plain": [
              "Text(0, 0.5, 'frequency')"
            ]
          },
          "metadata": {},
          "execution_count": 16
        },
        {
          "output_type": "display_data",
          "data": {
            "text/plain": [
              "<Figure size 432x288 with 1 Axes>"
            ],
            "image/png": "[encoded data removed]"
          },
          "metadata": {
            "needs_background": "light"
          }
        }
      ],
      "source": [
        "plt.hist(df['Temperature - (Celsius)'], log=True)\n",
        "plt.xlabel('Temperature - (Celsius)')\n",
        "plt.ylabel('frequency')"
      ]
    },
    {
      "cell_type": "code",
      "execution_count": 17,
      "id": "7b8e09dc",
      "metadata": {
        "colab": {
          "base_uri": "https://localhost:8080/",
          "height": 0
        },
        "id": "7b8e09dc",
        "outputId": "3081d177-eba2-41f6-bba7-af747be9cc44"
      },
      "outputs": [
        {
          "output_type": "execute_result",
          "data": {
            "text/plain": [
              "Text(0, 0.5, 'frequency')"
            ]
          },
          "metadata": {},
          "execution_count": 17
        },
        {
          "output_type": "display_data",
          "data": {
            "text/plain": [
              "<Figure size 432x288 with 1 Axes>"
            ],
            "image/png": "[encoded data removed]"
          },
          "metadata": {
            "needs_background": "light"
          }
        }
      ],
      "source": [
        "plt.hist(df['Year'], log=True)\n",
        "plt.xlabel('Year')\n",
        "plt.ylabel('frequency')"
      ]
    },
    {
      "cell_type": "code",
      "execution_count": 18,
      "id": "c500c55b",
      "metadata": {
        "colab": {
          "base_uri": "https://localhost:8080/",
          "height": 0
        },
        "id": "c500c55b",
        "outputId": "99fc5dea-ab96-4a4d-eaf2-8abe36fcd9d6"
      },
      "outputs": [
        {
          "output_type": "execute_result",
          "data": {
            "text/plain": [
              "Text(0.5, 0, 'Temperature - (Celsius)')"
            ]
          },
          "metadata": {},
          "execution_count": 18
        },
        {
          "output_type": "display_data",
          "data": {
            "text/plain": [
              "<Figure size 432x288 with 1 Axes>"
            ],
            "image/png": "[encoded data removed]"
          },
          "metadata": {
            "needs_background": "light"
          }
        }
      ],
      "source": [
        "# Creating the boxplot\n",
        "df.boxplot(\"Temperature - (Celsius)\", \"Year\")\n",
        "plt.ylabel('Year')\n",
        "plt.xlabel('Temperature - (Celsius)')"
      ]
    },
    {
      "cell_type": "code",
      "execution_count": 19,
      "id": "5b183f31",
      "metadata": {
        "id": "5b183f31"
      },
      "outputs": [],
      "source": [
        "# Display the plot\n",
        "plt.show()"
      ]
    },
    {
      "cell_type": "code",
      "execution_count": 20,
      "id": "210330d7",
      "metadata": {
        "colab": {
          "base_uri": "https://localhost:8080/",
          "height": 0
        },
        "id": "210330d7",
        "outputId": "e63836c3-ae8f-4e46-e65c-d21dc5a451c5"
      },
      "outputs": [
        {
          "output_type": "execute_result",
          "data": {
            "text/plain": [
              "Text(0, 0.5, 'Year')"
            ]
          },
          "metadata": {},
          "execution_count": 20
        },
        {
          "output_type": "display_data",
          "data": {
            "text/plain": [
              "<Figure size 432x288 with 1 Axes>"
            ],
            "image/png": "[encoded data removed]"
          },
          "metadata": {
            "needs_background": "light"
          }
        }
      ],
      "source": [
        "df.plot(\"Temperature - (Celsius)\", \"Year\")\n",
        "plt.ylabel('Year')"
      ]
    },
    {
      "cell_type": "code",
      "execution_count": 21,
      "id": "39108046",
      "metadata": {
        "id": "39108046"
      },
      "outputs": [],
      "source": [
        "#As can be seen, the graph is difficult to understand. There are various lines making it difficult to see individual trends. "
      ]
    },
    {
      "cell_type": "code",
      "execution_count": 22,
      "id": "5d4a3c6e",
      "metadata": {
        "id": "5d4a3c6e"
      },
      "outputs": [],
      "source": [
        "#So we can go for Scatter Plot"
      ]
    },
    {
      "cell_type": "code",
      "execution_count": 23,
      "id": "81c5388b",
      "metadata": {
        "colab": {
          "base_uri": "https://localhost:8080/",
          "height": 0
        },
        "id": "81c5388b",
        "outputId": "22b7fc85-20ce-4344-e066-9b49f9384067"
      },
      "outputs": [
        {
          "output_type": "display_data",
          "data": {
            "text/plain": [
              "<Figure size 432x288 with 1 Axes>"
            ],
            "image/png": "[encoded data removed]"
          },
          "metadata": {
            "needs_background": "light"
          }
        }
      ],
      "source": [
        "df.plot(kind='scatter', x='Temperature - (Celsius)', y='Month', rot=70)\n",
        "plt.show()"
      ]
    },
    {
      "cell_type": "code",
      "execution_count": 24,
      "id": "50c536a9",
      "metadata": {
        "colab": {
          "base_uri": "https://localhost:8080/",
          "height": 0
        },
        "id": "50c536a9",
        "outputId": "6ce8ac61-64a9-4e77-a85b-46a94e8568fc"
      },
      "outputs": [
        {
          "output_type": "display_data",
          "data": {
            "text/plain": [
              "<Figure size 432x288 with 1 Axes>"
            ],
            "image/png": "[encoded data removed]"
          },
          "metadata": {
            "needs_background": "light"
          }
        }
      ],
      "source": [
        "df.plot(kind='scatter', x='Temperature - (Celsius)', y='Year', rot=70)\n",
        "plt.show()"
      ]
    },
    {
      "cell_type": "code",
      "execution_count": 25,
      "id": "7bc3fb1a",
      "metadata": {
        "id": "7bc3fb1a"
      },
      "outputs": [],
      "source": [
        "# Now we can apply different types of regressions to find the co-rrealtion"
      ]
    },
    {
      "cell_type": "markdown",
      "id": "9bdb85d5",
      "metadata": {
        "id": "9bdb85d5"
      },
      "source": [
        "# Numpy operations"
      ]
    },
    {
      "cell_type": "code",
      "execution_count": 29,
      "id": "7622e369",
      "metadata": {
        "id": "7622e369"
      },
      "outputs": [],
      "source": [
        "#basic examination using numpy"
      ]
    },
    {
      "cell_type": "code",
      "execution_count": 30,
      "id": "f1210341",
      "metadata": {
        "id": "f1210341"
      },
      "outputs": [],
      "source": [
        "#Make sure to import numpy as np and loading the data"
      ]
    },
    {
      "cell_type": "code",
      "execution_count": 31,
      "id": "c1f7b7c7",
      "metadata": {
        "id": "c1f7b7c7"
      },
      "outputs": [],
      "source": [
        "data = np.genfromtxt('tempreture_1901_2016_pakistan.csv',delimiter=',', skip_header= True,)"
      ]
    },
    {
      "cell_type": "code",
      "execution_count": 32,
      "id": "a2007f07",
      "metadata": {
        "colab": {
          "base_uri": "https://localhost:8080/"
        },
        "id": "a2007f07",
        "outputId": "c909cc2d-fb18-403f-a8e0-6846248337c7"
      },
      "outputs": [
        {
          "output_type": "stream",
          "name": "stdout",
          "text": [
            "[[   7.72768 1901.             nan]\n",
            " [   8.936   1901.             nan]\n",
            " [  16.9632  1901.             nan]\n",
            " ...\n",
            " [  22.3982  2016.             nan]\n",
            " [  15.7672  2016.             nan]\n",
            " [  12.8763  2016.             nan]]\n"
          ]
        }
      ],
      "source": [
        "print(data)"
      ]
    },
    {
      "cell_type": "code",
      "execution_count": 33,
      "id": "3e3b4bcf",
      "metadata": {
        "id": "3e3b4bcf"
      },
      "outputs": [],
      "source": [
        "#splitting data into column arrays using numpy"
      ]
    },
    {
      "cell_type": "code",
      "execution_count": 34,
      "id": "cc1a1dfb",
      "metadata": {
        "id": "cc1a1dfb"
      },
      "outputs": [],
      "source": [
        "Temperature = data[:,0]"
      ]
    },
    {
      "cell_type": "code",
      "execution_count": 35,
      "id": "a8a7c9f0",
      "metadata": {
        "id": "a8a7c9f0"
      },
      "outputs": [],
      "source": [
        "Year = data[:,1]"
      ]
    },
    {
      "cell_type": "code",
      "execution_count": 36,
      "id": "dd9a766a",
      "metadata": {
        "colab": {
          "base_uri": "https://localhost:8080/"
        },
        "id": "dd9a766a",
        "outputId": "850bd3cc-bbf7-49a5-fa60-3c82dba3eaf3"
      },
      "outputs": [
        {
          "output_type": "stream",
          "name": "stdout",
          "text": [
            "[ 7.72768  8.936   16.9632  ... 22.3982  15.7672  12.8763 ]\n"
          ]
        }
      ],
      "source": [
        "print(Temperature)"
      ]
    },
    {
      "cell_type": "code",
      "execution_count": 37,
      "id": "3f3c6f65",
      "metadata": {
        "colab": {
          "base_uri": "https://localhost:8080/"
        },
        "id": "3f3c6f65",
        "outputId": "5d35e54e-c54b-4c17-fc9a-2b122d6dac8d"
      },
      "outputs": [
        {
          "output_type": "stream",
          "name": "stdout",
          "text": [
            "[1901. 1901. 1901. ... 2016. 2016. 2016.]\n"
          ]
        }
      ],
      "source": [
        "print(Year)"
      ]
    },
    {
      "cell_type": "code",
      "execution_count": 38,
      "id": "5895c973",
      "metadata": {
        "id": "5895c973"
      },
      "outputs": [],
      "source": [
        "#some basic observations"
      ]
    },
    {
      "cell_type": "code",
      "execution_count": 39,
      "id": "16b3988d",
      "metadata": {
        "colab": {
          "base_uri": "https://localhost:8080/"
        },
        "id": "16b3988d",
        "outputId": "1aa02959-bc2f-4d8b-a9f5-83a8d6802f85"
      },
      "outputs": [
        {
          "output_type": "stream",
          "name": "stdout",
          "text": [
            "5.91348\n"
          ]
        }
      ],
      "source": [
        "print(Temperature.min())"
      ]
    },
    {
      "cell_type": "code",
      "execution_count": 40,
      "id": "9eb14a29",
      "metadata": {
        "colab": {
          "base_uri": "https://localhost:8080/"
        },
        "id": "9eb14a29",
        "outputId": "e41fdc1a-453c-4cee-f7ec-a78cab1e0b73"
      },
      "outputs": [
        {
          "output_type": "stream",
          "name": "stdout",
          "text": [
            "30.3058\n"
          ]
        }
      ],
      "source": [
        "print(Temperature.max())"
      ]
    },
    {
      "cell_type": "code",
      "execution_count": 41,
      "id": "c1426711",
      "metadata": {
        "id": "c1426711"
      },
      "outputs": [],
      "source": [
        "#check for missing or bad data using numpy"
      ]
    },
    {
      "cell_type": "code",
      "execution_count": 42,
      "id": "b081c2e7",
      "metadata": {
        "id": "b081c2e7"
      },
      "outputs": [],
      "source": [
        "Temperature_mask = np.isfinite(Temperature)"
      ]
    },
    {
      "cell_type": "code",
      "execution_count": 43,
      "id": "8a72b343",
      "metadata": {
        "colab": {
          "base_uri": "https://localhost:8080/"
        },
        "id": "8a72b343",
        "outputId": "b1997c8e-065b-4fee-c902-b3a4d7e19037"
      },
      "outputs": [
        {
          "output_type": "stream",
          "name": "stdout",
          "text": [
            "Number of Temperature: 1392\n"
          ]
        }
      ],
      "source": [
        "print(\"Number of Temperature:\", np.count_nonzero(Temperature_mask))"
      ]
    },
    {
      "cell_type": "code",
      "execution_count": 44,
      "id": "6e20188c",
      "metadata": {
        "id": "6e20188c"
      },
      "outputs": [],
      "source": [
        "missing_Temperature_mask = ~np.isfinite(Temperature)"
      ]
    },
    {
      "cell_type": "code",
      "execution_count": 45,
      "id": "49a41dce",
      "metadata": {
        "id": "49a41dce",
        "outputId": "fc7f4d2c-f524-44c5-eb16-14a3d6188f97",
        "colab": {
          "base_uri": "https://localhost:8080/"
        }
      },
      "outputs": [
        {
          "output_type": "stream",
          "name": "stdout",
          "text": [
            "Number of missing Temperatures: 0\n"
          ]
        }
      ],
      "source": [
        "print(\"Number of missing Temperatures:\", np.count_nonzero(missing_Temperature_mask))"
      ]
    },
    {
      "cell_type": "code",
      "execution_count": 46,
      "id": "cb53594b",
      "metadata": {
        "id": "cb53594b"
      },
      "outputs": [],
      "source": [
        "#calculating average Annual temperature"
      ]
    },
    {
      "cell_type": "code",
      "execution_count": 47,
      "id": "a896c37d",
      "metadata": {
        "id": "a896c37d"
      },
      "outputs": [],
      "source": [
        "tmax = Temperature[(Year >= 1901) & (Year <= 2016)]"
      ]
    },
    {
      "cell_type": "code",
      "execution_count": 48,
      "id": "2e743e1c",
      "metadata": {
        "id": "2e743e1c",
        "outputId": "5963c1ee-67f5-451f-8752-d58edd4f2a52",
        "colab": {
          "base_uri": "https://localhost:8080/"
        }
      },
      "outputs": [
        {
          "output_type": "execute_result",
          "data": {
            "text/plain": [
              "20.007129439655174"
            ]
          },
          "metadata": {},
          "execution_count": 48
        }
      ],
      "source": [
        "tmax.mean()"
      ]
    },
    {
      "cell_type": "code",
      "execution_count": 49,
      "id": "feb4820e",
      "metadata": {
        "id": "feb4820e"
      },
      "outputs": [],
      "source": [
        "#conversion using numpy"
      ]
    },
    {
      "cell_type": "code",
      "execution_count": 50,
      "id": "1f1a02ec",
      "metadata": {
        "id": "1f1a02ec"
      },
      "outputs": [],
      "source": [
        "def CelsiusTofahr(Temperature):\n",
        "    return (Temperature * (1.8) + 32)"
      ]
    },
    {
      "cell_type": "code",
      "execution_count": 51,
      "id": "6215ad25",
      "metadata": {
        "id": "6215ad25"
      },
      "outputs": [],
      "source": [
        "conversion = CelsiusTofahr(Temperature)"
      ]
    },
    {
      "cell_type": "code",
      "execution_count": 52,
      "id": "abe1851f",
      "metadata": {
        "id": "abe1851f",
        "outputId": "d24e4d2d-98c0-4f65-97b8-d8b8ed8fbffa",
        "colab": {
          "base_uri": "https://localhost:8080/"
        }
      },
      "outputs": [
        {
          "output_type": "stream",
          "name": "stdout",
          "text": [
            "[45.909824 48.0848   62.53376  ... 72.31676  60.38096  55.17734 ]\n"
          ]
        }
      ],
      "source": [
        "print(conversion)"
      ]
    },
    {
      "cell_type": "markdown",
      "id": "7ecedc49",
      "metadata": {
        "id": "7ecedc49"
      },
      "source": [
        "# Pandas operations"
      ]
    },
    {
      "cell_type": "code",
      "execution_count": 63,
      "id": "f0a89ff1",
      "metadata": {
        "id": "f0a89ff1",
        "outputId": "04431b48-72ab-4120-b508-4818d08dedde",
        "colab": {
          "base_uri": "https://localhost:8080/",
          "height": 0
        }
      },
      "outputs": [
        {
          "output_type": "execute_result",
          "data": {
            "text/plain": [
              "   Temperature - (Celsius)  Year     Month\n",
              "0                  7.72768  1901   January\n",
              "1                  8.93600  1901  February\n",
              "2                 16.96320  1901     March\n",
              "3                 21.27410  1901     April\n",
              "4                 26.04970  1901       May"
            ],
            "text/html": [
              "\n",
              "  <div id=\"df-f7e33c73-c3f0-4e47-a7f7-7df56d52a986\">\n",
              "    <div class=\"colab-df-container\">\n",
              "      <div>\n",
              "<style scoped>\n",
              "    .dataframe tbody tr th:only-of-type {\n",
              "        vertical-align: middle;\n",
              "    }\n",
              "\n",
              "    .dataframe tbody tr th {\n",
              "        vertical-align: top;\n",
              "    }\n",
              "\n",
              "    .dataframe thead th {\n",
              "        text-align: right;\n",
              "    }\n",
              "</style>\n",
              "<table border=\"1\" class=\"dataframe\">\n",
              "  <thead>\n",
              "    <tr style=\"text-align: right;\">\n",
              "      <th></th>\n",
              "      <th>Temperature - (Celsius)</th>\n",
              "      <th>Year</th>\n",
              "      <th>Month</th>\n",
              "    </tr>\n",
              "  </thead>\n",
              "  <tbody>\n",
              "    <tr>\n",
              "      <th>0</th>\n",
              "      <td>7.72768</td>\n",
              "      <td>1901</td>\n",
              "      <td>January</td>\n",
              "    </tr>\n",
              "    <tr>\n",
              "      <th>1</th>\n",
              "      <td>8.93600</td>\n",
              "      <td>1901</td>\n",
              "      <td>February</td>\n",
              "    </tr>\n",
              "    <tr>\n",
              "      <th>2</th>\n",
              "      <td>16.96320</td>\n",
              "      <td>1901</td>\n",
              "      <td>March</td>\n",
              "    </tr>\n",
              "    <tr>\n",
              "      <th>3</th>\n",
              "      <td>21.27410</td>\n",
              "      <td>1901</td>\n",
              "      <td>April</td>\n",
              "    </tr>\n",
              "    <tr>\n",
              "      <th>4</th>\n",
              "      <td>26.04970</td>\n",
              "      <td>1901</td>\n",
              "      <td>May</td>\n",
              "    </tr>\n",
              "  </tbody>\n",
              "</table>\n",
              "</div>\n",
              "      <button class=\"colab-df-convert\" onclick=\"convertToInteractive('df-f7e33c73-c3f0-4e47-a7f7-7df56d52a986')\"\n",
              "              title=\"Convert this dataframe to an interactive table.\"\n",
              "              style=\"display:none;\">\n",
              "        \n",
              "  <svg xmlns=\"http://www.w3.org/2000/svg\" height=\"24px\"viewBox=\"0 0 24 24\"\n",
              "       width=\"24px\">\n",
              "    <path d=\"M0 0h24v24H0V0z\" fill=\"none\"/>\n",
              "    <path d=\"M18.56 5.44l.94 2.06.94-2.06 2.06-.94-2.06-.94-.94-2.06-.94 2.06-2.06.94zm-11 1L8.5 8.5l.94-2.06 2.06-.94-2.06-.94L8.5 2.5l-.94 2.06-2.06.94zm10 10l.94 2.06.94-2.06 2.06-.94-2.06-.94-.94-2.06-.94 2.06-2.06.94z\"/><path d=\"M17.41 7.96l-1.37-1.37c-.4-.4-.92-.59-1.43-.59-.52 0-1.04.2-1.43.59L10.3 9.45l-7.72 7.72c-.78.78-.78 2.05 0 2.83L4 21.41c.39.39.9.59 1.41.59.51 0 1.02-.2 1.41-.59l7.78-7.78 2.81-2.81c.8-.78.8-2.07 0-2.86zM5.41 20L4 18.59l7.72-7.72 1.47 1.35L5.41 20z\"/>\n",
              "  </svg>\n",
              "      </button>\n",
              "      \n",
              "  <style>\n",
              "    .colab-df-container {\n",
              "      display:flex;\n",
              "      flex-wrap:wrap;\n",
              "      gap: 12px;\n",
              "    }\n",
              "\n",
              "    .colab-df-convert {\n",
              "      background-color: #E8F0FE;\n",
              "      border: none;\n",
              "      border-radius: 50%;\n",
              "      cursor: pointer;\n",
              "      display: none;\n",
              "      fill: #1967D2;\n",
              "      height: 32px;\n",
              "      padding: 0 0 0 0;\n",
              "      width: 32px;\n",
              "    }\n",
              "\n",
              "    .colab-df-convert:hover {\n",
              "      background-color: #E2EBFA;\n",
              "      box-shadow: 0px 1px 2px rgba(60, 64, 67, 0.3), 0px 1px 3px 1px rgba(60, 64, 67, 0.15);\n",
              "      fill: #174EA6;\n",
              "    }\n",
              "\n",
              "    [theme=dark] .colab-df-convert {\n",
              "      background-color: #3B4455;\n",
              "      fill: #D2E3FC;\n",
              "    }\n",
              "\n",
              "    [theme=dark] .colab-df-convert:hover {\n",
              "      background-color: #434B5C;\n",
              "      box-shadow: 0px 1px 3px 1px rgba(0, 0, 0, 0.15);\n",
              "      filter: drop-shadow(0px 1px 2px rgba(0, 0, 0, 0.3));\n",
              "      fill: #FFFFFF;\n",
              "    }\n",
              "  </style>\n",
              "\n",
              "      <script>\n",
              "        const buttonEl =\n",
              "          document.querySelector('#df-f7e33c73-c3f0-4e47-a7f7-7df56d52a986 button.colab-df-convert');\n",
              "        buttonEl.style.display =\n",
              "          google.colab.kernel.accessAllowed ? 'block' : 'none';\n",
              "\n",
              "        async function convertToInteractive(key) {\n",
              "          const element = document.querySelector('#df-f7e33c73-c3f0-4e47-a7f7-7df56d52a986');\n",
              "          const dataTable =\n",
              "            await google.colab.kernel.invokeFunction('convertToInteractive',\n",
              "                                                     [key], {});\n",
              "          if (!dataTable) return;\n",
              "\n",
              "          const docLinkHtml = 'Like what you see? Visit the ' +\n",
              "            '<a target=\"_blank\" href=https://colab.research.google.com/notebooks/data_table.ipynb>data table notebook</a>'\n",
              "            + ' to learn more about interactive tables.';\n",
              "          element.innerHTML = '';\n",
              "          dataTable['output_type'] = 'display_data';\n",
              "          await google.colab.output.renderOutput(dataTable, element);\n",
              "          const docLink = document.createElement('div');\n",
              "          docLink.innerHTML = docLinkHtml;\n",
              "          element.appendChild(docLink);\n",
              "        }\n",
              "      </script>\n",
              "    </div>\n",
              "  </div>\n",
              "  "
            ]
          },
          "metadata": {},
          "execution_count": 63
        }
      ],
      "source": [
        "df.head()"
      ]
    },
    {
      "cell_type": "code",
      "execution_count": 64,
      "id": "5d1071fd",
      "metadata": {
        "id": "5d1071fd",
        "outputId": "e8dd6fa7-bc83-492d-dd59-23a885f928c8",
        "colab": {
          "base_uri": "https://localhost:8080/",
          "height": 0
        }
      },
      "outputs": [
        {
          "output_type": "execute_result",
          "data": {
            "text/plain": [
              "       Temperature - (Celsius)         Year\n",
              "count              1392.000000  1392.000000\n",
              "mean                 20.007129  1958.500000\n",
              "std                   7.377193    33.497105\n",
              "min                   5.913480  1901.000000\n",
              "25%                  13.119875  1929.750000\n",
              "50%                  21.170700  1958.500000\n",
              "75%                  27.211500  1987.250000\n",
              "max                  30.305800  2016.000000"
            ],
            "text/html": [
              "\n",
              "  <div id=\"df-e03ac392-1b49-40e7-9a00-fad288619afd\">\n",
              "    <div class=\"colab-df-container\">\n",
              "      <div>\n",
              "<style scoped>\n",
              "    .dataframe tbody tr th:only-of-type {\n",
              "        vertical-align: middle;\n",
              "    }\n",
              "\n",
              "    .dataframe tbody tr th {\n",
              "        vertical-align: top;\n",
              "    }\n",
              "\n",
              "    .dataframe thead th {\n",
              "        text-align: right;\n",
              "    }\n",
              "</style>\n",
              "<table border=\"1\" class=\"dataframe\">\n",
              "  <thead>\n",
              "    <tr style=\"text-align: right;\">\n",
              "      <th></th>\n",
              "      <th>Temperature - (Celsius)</th>\n",
              "      <th>Year</th>\n",
              "    </tr>\n",
              "  </thead>\n",
              "  <tbody>\n",
              "    <tr>\n",
              "      <th>count</th>\n",
              "      <td>1392.000000</td>\n",
              "      <td>1392.000000</td>\n",
              "    </tr>\n",
              "    <tr>\n",
              "      <th>mean</th>\n",
              "      <td>20.007129</td>\n",
              "      <td>1958.500000</td>\n",
              "    </tr>\n",
              "    <tr>\n",
              "      <th>std</th>\n",
              "      <td>7.377193</td>\n",
              "      <td>33.497105</td>\n",
              "    </tr>\n",
              "    <tr>\n",
              "      <th>min</th>\n",
              "      <td>5.913480</td>\n",
              "      <td>1901.000000</td>\n",
              "    </tr>\n",
              "    <tr>\n",
              "      <th>25%</th>\n",
              "      <td>13.119875</td>\n",
              "      <td>1929.750000</td>\n",
              "    </tr>\n",
              "    <tr>\n",
              "      <th>50%</th>\n",
              "      <td>21.170700</td>\n",
              "      <td>1958.500000</td>\n",
              "    </tr>\n",
              "    <tr>\n",
              "      <th>75%</th>\n",
              "      <td>27.211500</td>\n",
              "      <td>1987.250000</td>\n",
              "    </tr>\n",
              "    <tr>\n",
              "      <th>max</th>\n",
              "      <td>30.305800</td>\n",
              "      <td>2016.000000</td>\n",
              "    </tr>\n",
              "  </tbody>\n",
              "</table>\n",
              "</div>\n",
              "      <button class=\"colab-df-convert\" onclick=\"convertToInteractive('df-e03ac392-1b49-40e7-9a00-fad288619afd')\"\n",
              "              title=\"Convert this dataframe to an interactive table.\"\n",
              "              style=\"display:none;\">\n",
              "        \n",
              "  <svg xmlns=\"http://www.w3.org/2000/svg\" height=\"24px\"viewBox=\"0 0 24 24\"\n",
              "       width=\"24px\">\n",
              "    <path d=\"M0 0h24v24H0V0z\" fill=\"none\"/>\n",
              "    <path d=\"M18.56 5.44l.94 2.06.94-2.06 2.06-.94-2.06-.94-.94-2.06-.94 2.06-2.06.94zm-11 1L8.5 8.5l.94-2.06 2.06-.94-2.06-.94L8.5 2.5l-.94 2.06-2.06.94zm10 10l.94 2.06.94-2.06 2.06-.94-2.06-.94-.94-2.06-.94 2.06-2.06.94z\"/><path d=\"M17.41 7.96l-1.37-1.37c-.4-.4-.92-.59-1.43-.59-.52 0-1.04.2-1.43.59L10.3 9.45l-7.72 7.72c-.78.78-.78 2.05 0 2.83L4 21.41c.39.39.9.59 1.41.59.51 0 1.02-.2 1.41-.59l7.78-7.78 2.81-2.81c.8-.78.8-2.07 0-2.86zM5.41 20L4 18.59l7.72-7.72 1.47 1.35L5.41 20z\"/>\n",
              "  </svg>\n",
              "      </button>\n",
              "      \n",
              "  <style>\n",
              "    .colab-df-container {\n",
              "      display:flex;\n",
              "      flex-wrap:wrap;\n",
              "      gap: 12px;\n",
              "    }\n",
              "\n",
              "    .colab-df-convert {\n",
              "      background-color: #E8F0FE;\n",
              "      border: none;\n",
              "      border-radius: 50%;\n",
              "      cursor: pointer;\n",
              "      display: none;\n",
              "      fill: #1967D2;\n",
              "      height: 32px;\n",
              "      padding: 0 0 0 0;\n",
              "      width: 32px;\n",
              "    }\n",
              "\n",
              "    .colab-df-convert:hover {\n",
              "      background-color: #E2EBFA;\n",
              "      box-shadow: 0px 1px 2px rgba(60, 64, 67, 0.3), 0px 1px 3px 1px rgba(60, 64, 67, 0.15);\n",
              "      fill: #174EA6;\n",
              "    }\n",
              "\n",
              "    [theme=dark] .colab-df-convert {\n",
              "      background-color: #3B4455;\n",
              "      fill: #D2E3FC;\n",
              "    }\n",
              "\n",
              "    [theme=dark] .colab-df-convert:hover {\n",
              "      background-color: #434B5C;\n",
              "      box-shadow: 0px 1px 3px 1px rgba(0, 0, 0, 0.15);\n",
              "      filter: drop-shadow(0px 1px 2px rgba(0, 0, 0, 0.3));\n",
              "      fill: #FFFFFF;\n",
              "    }\n",
              "  </style>\n",
              "\n",
              "      <script>\n",
              "        const buttonEl =\n",
              "          document.querySelector('#df-e03ac392-1b49-40e7-9a00-fad288619afd button.colab-df-convert');\n",
              "        buttonEl.style.display =\n",
              "          google.colab.kernel.accessAllowed ? 'block' : 'none';\n",
              "\n",
              "        async function convertToInteractive(key) {\n",
              "          const element = document.querySelector('#df-e03ac392-1b49-40e7-9a00-fad288619afd');\n",
              "          const dataTable =\n",
              "            await google.colab.kernel.invokeFunction('convertToInteractive',\n",
              "                                                     [key], {});\n",
              "          if (!dataTable) return;\n",
              "\n",
              "          const docLinkHtml = 'Like what you see? Visit the ' +\n",
              "            '<a target=\"_blank\" href=https://colab.research.google.com/notebooks/data_table.ipynb>data table notebook</a>'\n",
              "            + ' to learn more about interactive tables.';\n",
              "          element.innerHTML = '';\n",
              "          dataTable['output_type'] = 'display_data';\n",
              "          await google.colab.output.renderOutput(dataTable, element);\n",
              "          const docLink = document.createElement('div');\n",
              "          docLink.innerHTML = docLinkHtml;\n",
              "          element.appendChild(docLink);\n",
              "        }\n",
              "      </script>\n",
              "    </div>\n",
              "  </div>\n",
              "  "
            ]
          },
          "metadata": {},
          "execution_count": 64
        }
      ],
      "source": [
        "df.describe()"
      ]
    },
    {
      "cell_type": "code",
      "execution_count": 65,
      "id": "99da2429",
      "metadata": {
        "id": "99da2429",
        "outputId": "559e5b57-bd96-428d-95b3-8341e67011af",
        "colab": {
          "base_uri": "https://localhost:8080/"
        }
      },
      "outputs": [
        {
          "output_type": "execute_result",
          "data": {
            "text/plain": [
              "Index                        128\n",
              "Temperature - (Celsius)    11136\n",
              "Year                       11136\n",
              "Month                      11136\n",
              "dtype: int64"
            ]
          },
          "metadata": {},
          "execution_count": 65
        }
      ],
      "source": [
        "df.memory_usage()"
      ]
    },
    {
      "cell_type": "code",
      "execution_count": 66,
      "id": "8f49c5a8",
      "metadata": {
        "id": "8f49c5a8",
        "outputId": "6d7f12f1-2f5e-461a-d796-f2d8c2122596",
        "colab": {
          "base_uri": "https://localhost:8080/"
        }
      },
      "outputs": [
        {
          "output_type": "execute_result",
          "data": {
            "text/plain": [
              "Temperature - (Celsius)  Year  Month    \n",
              "5.91348                  1964  January      1\n",
              "25.57640                 1970  September    1\n",
              "25.65530                 1959  May          1\n",
              "25.62850                 1903  May          1\n",
              "25.62080                 1945  May          1\n",
              "                                           ..\n",
              "15.52180                 1914  November     1\n",
              "15.51460                 1997  March        1\n",
              "15.50510                 1933  November     1\n",
              "15.50380                 1991  March        1\n",
              "30.30580                 2014  June         1\n",
              "Length: 1392, dtype: int64"
            ]
          },
          "metadata": {},
          "execution_count": 66
        }
      ],
      "source": [
        "df.value_counts()"
      ]
    },
    {
      "cell_type": "code",
      "execution_count": 67,
      "id": "9d12dd0b",
      "metadata": {
        "id": "9d12dd0b",
        "outputId": "996c2bb5-88c0-4391-8337-a841212f3f1f",
        "colab": {
          "base_uri": "https://localhost:8080/",
          "height": 0
        }
      },
      "outputs": [
        {
          "output_type": "execute_result",
          "data": {
            "text/plain": [
              "      Temperature - (Celsius)  Year      Month\n",
              "0                     7.72768  1901    January\n",
              "1                     8.93600  1901   February\n",
              "2                    16.96320  1901      March\n",
              "3                    21.27410  1901      April\n",
              "4                    26.04970  1901        May\n",
              "...                       ...   ...        ...\n",
              "1387                 27.63320  2016     August\n",
              "1388                 26.71790  2016  September\n",
              "1389                 22.39820  2016    October\n",
              "1390                 15.76720  2016   November\n",
              "1391                 12.87630  2016   December\n",
              "\n",
              "[1392 rows x 3 columns]"
            ],
            "text/html": [
              "\n",
              "  <div id=\"df-25843931-ca0b-498e-863e-91553595d20f\">\n",
              "    <div class=\"colab-df-container\">\n",
              "      <div>\n",
              "<style scoped>\n",
              "    .dataframe tbody tr th:only-of-type {\n",
              "        vertical-align: middle;\n",
              "    }\n",
              "\n",
              "    .dataframe tbody tr th {\n",
              "        vertical-align: top;\n",
              "    }\n",
              "\n",
              "    .dataframe thead th {\n",
              "        text-align: right;\n",
              "    }\n",
              "</style>\n",
              "<table border=\"1\" class=\"dataframe\">\n",
              "  <thead>\n",
              "    <tr style=\"text-align: right;\">\n",
              "      <th></th>\n",
              "      <th>Temperature - (Celsius)</th>\n",
              "      <th>Year</th>\n",
              "      <th>Month</th>\n",
              "    </tr>\n",
              "  </thead>\n",
              "  <tbody>\n",
              "    <tr>\n",
              "      <th>0</th>\n",
              "      <td>7.72768</td>\n",
              "      <td>1901</td>\n",
              "      <td>January</td>\n",
              "    </tr>\n",
              "    <tr>\n",
              "      <th>1</th>\n",
              "      <td>8.93600</td>\n",
              "      <td>1901</td>\n",
              "      <td>February</td>\n",
              "    </tr>\n",
              "    <tr>\n",
              "      <th>2</th>\n",
              "      <td>16.96320</td>\n",
              "      <td>1901</td>\n",
              "      <td>March</td>\n",
              "    </tr>\n",
              "    <tr>\n",
              "      <th>3</th>\n",
              "      <td>21.27410</td>\n",
              "      <td>1901</td>\n",
              "      <td>April</td>\n",
              "    </tr>\n",
              "    <tr>\n",
              "      <th>4</th>\n",
              "      <td>26.04970</td>\n",
              "      <td>1901</td>\n",
              "      <td>May</td>\n",
              "    </tr>\n",
              "    <tr>\n",
              "      <th>...</th>\n",
              "      <td>...</td>\n",
              "      <td>...</td>\n",
              "      <td>...</td>\n",
              "    </tr>\n",
              "    <tr>\n",
              "      <th>1387</th>\n",
              "      <td>27.63320</td>\n",
              "      <td>2016</td>\n",
              "      <td>August</td>\n",
              "    </tr>\n",
              "    <tr>\n",
              "      <th>1388</th>\n",
              "      <td>26.71790</td>\n",
              "      <td>2016</td>\n",
              "      <td>September</td>\n",
              "    </tr>\n",
              "    <tr>\n",
              "      <th>1389</th>\n",
              "      <td>22.39820</td>\n",
              "      <td>2016</td>\n",
              "      <td>October</td>\n",
              "    </tr>\n",
              "    <tr>\n",
              "      <th>1390</th>\n",
              "      <td>15.76720</td>\n",
              "      <td>2016</td>\n",
              "      <td>November</td>\n",
              "    </tr>\n",
              "    <tr>\n",
              "      <th>1391</th>\n",
              "      <td>12.87630</td>\n",
              "      <td>2016</td>\n",
              "      <td>December</td>\n",
              "    </tr>\n",
              "  </tbody>\n",
              "</table>\n",
              "<p>1392 rows × 3 columns</p>\n",
              "</div>\n",
              "      <button class=\"colab-df-convert\" onclick=\"convertToInteractive('df-25843931-ca0b-498e-863e-91553595d20f')\"\n",
              "              title=\"Convert this dataframe to an interactive table.\"\n",
              "              style=\"display:none;\">\n",
              "        \n",
              "  <svg xmlns=\"http://www.w3.org/2000/svg\" height=\"24px\"viewBox=\"0 0 24 24\"\n",
              "       width=\"24px\">\n",
              "    <path d=\"M0 0h24v24H0V0z\" fill=\"none\"/>\n",
              "    <path d=\"M18.56 5.44l.94 2.06.94-2.06 2.06-.94-2.06-.94-.94-2.06-.94 2.06-2.06.94zm-11 1L8.5 8.5l.94-2.06 2.06-.94-2.06-.94L8.5 2.5l-.94 2.06-2.06.94zm10 10l.94 2.06.94-2.06 2.06-.94-2.06-.94-.94-2.06-.94 2.06-2.06.94z\"/><path d=\"M17.41 7.96l-1.37-1.37c-.4-.4-.92-.59-1.43-.59-.52 0-1.04.2-1.43.59L10.3 9.45l-7.72 7.72c-.78.78-.78 2.05 0 2.83L4 21.41c.39.39.9.59 1.41.59.51 0 1.02-.2 1.41-.59l7.78-7.78 2.81-2.81c.8-.78.8-2.07 0-2.86zM5.41 20L4 18.59l7.72-7.72 1.47 1.35L5.41 20z\"/>\n",
              "  </svg>\n",
              "      </button>\n",
              "      \n",
              "  <style>\n",
              "    .colab-df-container {\n",
              "      display:flex;\n",
              "      flex-wrap:wrap;\n",
              "      gap: 12px;\n",
              "    }\n",
              "\n",
              "    .colab-df-convert {\n",
              "      background-color: #E8F0FE;\n",
              "      border: none;\n",
              "      border-radius: 50%;\n",
              "      cursor: pointer;\n",
              "      display: none;\n",
              "      fill: #1967D2;\n",
              "      height: 32px;\n",
              "      padding: 0 0 0 0;\n",
              "      width: 32px;\n",
              "    }\n",
              "\n",
              "    .colab-df-convert:hover {\n",
              "      background-color: #E2EBFA;\n",
              "      box-shadow: 0px 1px 2px rgba(60, 64, 67, 0.3), 0px 1px 3px 1px rgba(60, 64, 67, 0.15);\n",
              "      fill: #174EA6;\n",
              "    }\n",
              "\n",
              "    [theme=dark] .colab-df-convert {\n",
              "      background-color: #3B4455;\n",
              "      fill: #D2E3FC;\n",
              "    }\n",
              "\n",
              "    [theme=dark] .colab-df-convert:hover {\n",
              "      background-color: #434B5C;\n",
              "      box-shadow: 0px 1px 3px 1px rgba(0, 0, 0, 0.15);\n",
              "      filter: drop-shadow(0px 1px 2px rgba(0, 0, 0, 0.3));\n",
              "      fill: #FFFFFF;\n",
              "    }\n",
              "  </style>\n",
              "\n",
              "      <script>\n",
              "        const buttonEl =\n",
              "          document.querySelector('#df-25843931-ca0b-498e-863e-91553595d20f button.colab-df-convert');\n",
              "        buttonEl.style.display =\n",
              "          google.colab.kernel.accessAllowed ? 'block' : 'none';\n",
              "\n",
              "        async function convertToInteractive(key) {\n",
              "          const element = document.querySelector('#df-25843931-ca0b-498e-863e-91553595d20f');\n",
              "          const dataTable =\n",
              "            await google.colab.kernel.invokeFunction('convertToInteractive',\n",
              "                                                     [key], {});\n",
              "          if (!dataTable) return;\n",
              "\n",
              "          const docLinkHtml = 'Like what you see? Visit the ' +\n",
              "            '<a target=\"_blank\" href=https://colab.research.google.com/notebooks/data_table.ipynb>data table notebook</a>'\n",
              "            + ' to learn more about interactive tables.';\n",
              "          element.innerHTML = '';\n",
              "          dataTable['output_type'] = 'display_data';\n",
              "          await google.colab.output.renderOutput(dataTable, element);\n",
              "          const docLink = document.createElement('div');\n",
              "          docLink.innerHTML = docLinkHtml;\n",
              "          element.appendChild(docLink);\n",
              "        }\n",
              "      </script>\n",
              "    </div>\n",
              "  </div>\n",
              "  "
            ]
          },
          "metadata": {},
          "execution_count": 67
        }
      ],
      "source": [
        "df.drop_duplicates()"
      ]
    },
    {
      "cell_type": "markdown",
      "id": "5cc491b0",
      "metadata": {
        "id": "5cc491b0"
      },
      "source": [
        "# plotting through matplotlib "
      ]
    },
    {
      "cell_type": "code",
      "execution_count": 68,
      "id": "c0ddd1eb",
      "metadata": {
        "id": "c0ddd1eb"
      },
      "outputs": [],
      "source": [
        "import matplotlib.pyplot as plt"
      ]
    },
    {
      "cell_type": "code",
      "execution_count": 69,
      "id": "dd49c1f6",
      "metadata": {
        "colab": {
          "base_uri": "https://localhost:8080/",
          "height": 0
        },
        "id": "dd49c1f6",
        "outputId": "6e4d703a-9760-4b39-975c-32f6cd5c501e"
      },
      "outputs": [
        {
          "output_type": "display_data",
          "data": {
            "text/plain": [
              "<Figure size 432x288 with 1 Axes>"
            ],
            "image/png": "[encoded data removed]"
          },
          "metadata": {
            "needs_background": "light"
          }
        }
      ],
      "source": [
        "df.plot(kind='scatter', x='Temperature - (Celsius)', y='Year', rot=10)\n",
        "plt.show()"
      ]
    },
    {
      "cell_type": "code",
      "execution_count": 70,
      "id": "9f3b8490",
      "metadata": {
        "id": "9f3b8490"
      },
      "outputs": [],
      "source": [
        "x = df['Temperature - (Celsius)']\n",
        "y = df['Year']"
      ]
    },
    {
      "cell_type": "code",
      "execution_count": 71,
      "id": "25be7985",
      "metadata": {
        "colab": {
          "base_uri": "https://localhost:8080/",
          "height": 0
        },
        "id": "25be7985",
        "outputId": "e95e0e6e-9504-413c-e676-821cf9cceccf"
      },
      "outputs": [
        {
          "output_type": "execute_result",
          "data": {
            "text/plain": [
              "<BarContainer object of 1392 artists>"
            ]
          },
          "metadata": {},
          "execution_count": 71
        },
        {
          "output_type": "display_data",
          "data": {
            "text/plain": [
              "<Figure size 360x360 with 1 Axes>"
            ],
            "image/png": "[encoded data removed]"
          },
          "metadata": {
            "needs_background": "light"
          }
        }
      ],
      "source": [
        "fig, ax = plt.subplots(figsize = (5,5))\n",
        "plt.ylabel('Temperature - (Celsius)')\n",
        "plt.xlabel('Year')\n",
        "plt.bar(x,y)\n"
      ]
    },
    {
      "cell_type": "code",
      "execution_count": 72,
      "id": "6d0bbbad",
      "metadata": {
        "colab": {
          "base_uri": "https://localhost:8080/",
          "height": 0
        },
        "id": "6d0bbbad",
        "outputId": "d4e49240-fa01-4b39-8700-357c834cda01"
      },
      "outputs": [
        {
          "output_type": "execute_result",
          "data": {
            "text/plain": [
              "[<matplotlib.lines.Line2D at 0x7fab7a611850>]"
            ]
          },
          "metadata": {},
          "execution_count": 72
        },
        {
          "output_type": "display_data",
          "data": {
            "text/plain": [
              "<Figure size 360x360 with 1 Axes>"
            ],
            "image/png": "[encoded data removed]"
          },
          "metadata": {
            "needs_background": "light"
          }
        }
      ],
      "source": [
        "fig, ax = plt.subplots(figsize = (5,5))\n",
        "plt.xlabel('Temperature - (Celsius)')\n",
        "plt.ylabel('Year')\n",
        "ax.plot(x,y)"
      ]
    },
    {
      "cell_type": "code",
      "execution_count": 73,
      "id": "4085da88",
      "metadata": {
        "colab": {
          "base_uri": "https://localhost:8080/",
          "height": 0
        },
        "id": "4085da88",
        "outputId": "2a113348-bb2d-4862-f14a-6ba187bd722b"
      },
      "outputs": [
        {
          "output_type": "execute_result",
          "data": {
            "text/plain": [
              "Text(0, 0.5, 'Year')"
            ]
          },
          "metadata": {},
          "execution_count": 73
        },
        {
          "output_type": "display_data",
          "data": {
            "text/plain": [
              "<Figure size 360x360 with 1 Axes>"
            ],
            "image/png": "[encoded data removed]"
          },
          "metadata": {
            "needs_background": "light"
          }
        }
      ],
      "source": [
        "df.boxplot(\"Temperature - (Celsius)\", \"Year\",figsize=(5,5))\n",
        "plt.ylabel('Year')"
      ]
    },
    {
      "cell_type": "markdown",
      "id": "924789b2",
      "metadata": {
        "id": "924789b2"
      },
      "source": [
        "# plotting through seaborn"
      ]
    },
    {
      "cell_type": "code",
      "execution_count": 74,
      "id": "cb4a69e2",
      "metadata": {
        "id": "cb4a69e2"
      },
      "outputs": [],
      "source": [
        "import seaborn as sns"
      ]
    },
    {
      "cell_type": "code",
      "execution_count": 75,
      "id": "12260dc6",
      "metadata": {
        "colab": {
          "base_uri": "https://localhost:8080/",
          "height": 0
        },
        "id": "12260dc6",
        "outputId": "27caf870-e012-41aa-f4c7-a9758d4edfc5"
      },
      "outputs": [
        {
          "output_type": "execute_result",
          "data": {
            "text/plain": [
              "<seaborn.axisgrid.PairGrid at 0x7fab6df732d0>"
            ]
          },
          "metadata": {},
          "execution_count": 75
        },
        {
          "output_type": "display_data",
          "data": {
            "text/plain": [
              "<Figure size 360x360 with 6 Axes>"
            ],
            "image/png": "[encoded data removed]"
          },
          "metadata": {
            "needs_background": "light"
          }
        }
      ],
      "source": [
        "sns.pairplot(df)"
      ]
    },
    {
      "cell_type": "code",
      "execution_count": 76,
      "id": "bf69dbc0",
      "metadata": {
        "colab": {
          "base_uri": "https://localhost:8080/",
          "height": 0
        },
        "id": "bf69dbc0",
        "outputId": "dfa9e2d9-ba74-4a23-cd91-e93201181ecf"
      },
      "outputs": [
        {
          "output_type": "display_data",
          "data": {
            "text/plain": [
              "<Figure size 360x360 with 2 Axes>"
            ],
            "image/png": "[encoded data removed]"
          },
          "metadata": {
            "needs_background": "light"
          }
        }
      ],
      "source": [
        "# plot heat map to get correlations of each features in dataset\n",
        "corrmat = df.corr()\n",
        "top_corr_features = corrmat.index\n",
        "plt.figure(figsize=(5,5))\n",
        "g=sns.heatmap(df.corr(),annot=True,cmap=\"RdYlGn\")"
      ]
    },
    {
      "cell_type": "markdown",
      "id": "53060f93",
      "metadata": {
        "id": "53060f93"
      },
      "source": [
        "# Machine learning models"
      ]
    },
    {
      "cell_type": "code",
      "execution_count": 276,
      "id": "ddefb536",
      "metadata": {
        "id": "ddefb536"
      },
      "outputs": [],
      "source": [
        "from sklearn.model_selection import train_test_split\n",
        "from sklearn.linear_model import LinearRegression \n",
        "from sklearn.metrics import mean_squared_error"
      ]
    },
    {
      "cell_type": "code",
      "execution_count": 78,
      "id": "aed21617",
      "metadata": {
        "id": "aed21617"
      },
      "outputs": [],
      "source": [
        "#linear regression"
      ]
    },
    {
      "cell_type": "code",
      "execution_count": 79,
      "id": "55ef2c38",
      "metadata": {
        "id": "55ef2c38"
      },
      "outputs": [],
      "source": [
        "a, b = np.polyfit(x,y,1)"
      ]
    },
    {
      "cell_type": "code",
      "execution_count": 80,
      "id": "78d4d61d",
      "metadata": {
        "colab": {
          "base_uri": "https://localhost:8080/"
        },
        "id": "78d4d61d",
        "outputId": "0cccab40-bb94-40de-d392-4868117c9518"
      },
      "outputs": [
        {
          "output_type": "stream",
          "name": "stdout",
          "text": [
            "0.15742049691861193 1955.3504677416947\n"
          ]
        }
      ],
      "source": [
        "# Print the slope and intercept\n",
        "print(a,b)"
      ]
    },
    {
      "cell_type": "code",
      "execution_count": 81,
      "id": "775aa63f",
      "metadata": {
        "id": "775aa63f"
      },
      "outputs": [],
      "source": [
        "# Generate theoretical x and y data: x_theor, y_theor\n",
        "x_theor = np.array([3, 15])\n",
        "y_theor = a * x_theor + b"
      ]
    },
    {
      "cell_type": "code",
      "execution_count": 82,
      "id": "ce35073d",
      "metadata": {
        "colab": {
          "base_uri": "https://localhost:8080/",
          "height": 280
        },
        "id": "ce35073d",
        "outputId": "7bea3693-038d-4bdc-9b3e-a64afdfe7708"
      },
      "outputs": [
        {
          "output_type": "display_data",
          "data": {
            "text/plain": [
              "<Figure size 432x288 with 1 Axes>"
            ],
            "image/png": "[encoded data removed]"
          },
          "metadata": {
            "needs_background": "light"
          }
        }
      ],
      "source": [
        "# Plot the Anscombe data and theoretical line\n",
        "_ = plt.plot(x, y, marker='.', linestyle='none')\n",
        "_ = plt.plot(x_theor, y_theor)\n",
        "# Label the axes\n",
        "plt.xlabel('Temperature - (Celsius)')\n",
        "plt.ylabel('Year')\n",
        "\n",
        "# Show the plot\n",
        "plt.show()"
      ]
    },
    {
      "cell_type": "code",
      "source": [
        "#Also Linear Regression\n",
        "# y = m*x+c"
      ],
      "metadata": {
        "id": "5ur9cEc_uKMs"
      },
      "id": "5ur9cEc_uKMs",
      "execution_count": 316,
      "outputs": []
    },
    {
      "cell_type": "code",
      "source": [
        "x = df['Year']\n",
        "y = df['Temperature - (Celsius)']\n",
        "x_train, x_test, y_train, y_test = train_test_split(x,y, random_state = 51)"
      ],
      "metadata": {
        "id": "kfYZ4JLNvBcU"
      },
      "id": "kfYZ4JLNvBcU",
      "execution_count": 300,
      "outputs": []
    },
    {
      "cell_type": "code",
      "source": [
        "lr = LinearRegression()"
      ],
      "metadata": {
        "id": "FTy8_GtNuQOk"
      },
      "id": "FTy8_GtNuQOk",
      "execution_count": 295,
      "outputs": []
    },
    {
      "cell_type": "code",
      "source": [
        "lr.fit(np.array(x_train).reshape(-1,1) ,y_train)"
      ],
      "metadata": {
        "colab": {
          "base_uri": "https://localhost:8080/"
        },
        "id": "MyUqU1CJuXQT",
        "outputId": "d5efa70b-1bfd-47ea-8929-8029c3f432cc"
      },
      "id": "MyUqU1CJuXQT",
      "execution_count": 301,
      "outputs": [
        {
          "output_type": "execute_result",
          "data": {
            "text/plain": [
              "LinearRegression()"
            ]
          },
          "metadata": {},
          "execution_count": 301
        }
      ]
    },
    {
      "cell_type": "code",
      "source": [
        "lr.coef_"
      ],
      "metadata": {
        "colab": {
          "base_uri": "https://localhost:8080/"
        },
        "id": "uDhk3F3cvpac",
        "outputId": "fd2387d7-b3a8-4c5f-c0c6-674dd7928774"
      },
      "id": "uDhk3F3cvpac",
      "execution_count": 304,
      "outputs": [
        {
          "output_type": "execute_result",
          "data": {
            "text/plain": [
              "array([0.00714413])"
            ]
          },
          "metadata": {},
          "execution_count": 304
        }
      ]
    },
    {
      "cell_type": "code",
      "source": [
        "lr.intercept_"
      ],
      "metadata": {
        "colab": {
          "base_uri": "https://localhost:8080/"
        },
        "id": "QVzNAAR0vsQ-",
        "outputId": "01d71f32-deaf-4514-8fe2-84a333bcd57e"
      },
      "id": "QVzNAAR0vsQ-",
      "execution_count": 306,
      "outputs": [
        {
          "output_type": "execute_result",
          "data": {
            "text/plain": [
              "6.015343056806184"
            ]
          },
          "metadata": {},
          "execution_count": 306
        }
      ]
    },
    {
      "cell_type": "code",
      "source": [
        "lr.predict(np.array(x_test).reshape(-1,1),y)"
      ],
      "metadata": {
        "colab": {
          "base_uri": "https://localhost:8080/"
        },
        "id": "nnAR6FSqvvrk",
        "outputId": "8b5eb4d5-ad14-4c49-bd72-a36ac6c98e24"
      },
      "id": "nnAR6FSqvvrk",
      "execution_count": 307,
      "outputs": [
        {
          "output_type": "execute_result",
          "data": {
            "text/plain": [
              "array([20.24644965, 20.36789986, 20.22501726, 20.41076464, 19.66063101,\n",
              "       20.28931443, 19.91781968, 20.38218812, 19.98211685, 20.38218812,\n",
              "       20.27502617, 19.98926098, 19.69635166, 19.76779295, 19.70349579,\n",
              "       20.30360269, 20.04641402, 19.79636947, 20.0892788 , 20.37504399,\n",
              "       20.1392877 , 19.78922534, 19.96068446, 19.64634275, 19.86781077,\n",
              "       19.60347797, 20.29645856, 19.67491927, 19.66777514, 20.25359378,\n",
              "       19.73921644, 20.27502617, 19.66777514, 20.17500835, 19.9463962 ,\n",
              "       19.83209012, 19.76779295, 20.0892788 , 19.6820634 , 19.65348688,\n",
              "       19.70349579, 20.17500835, 20.19644074, 19.71063992, 20.23930552,\n",
              "       19.77493708, 20.11785532, 19.8035136 , 19.66063101, 20.08213467,\n",
              "       19.61776623, 20.16072009, 20.30360269, 19.83923425, 19.67491927,\n",
              "       20.38933225, 20.39647638, 19.83923425, 20.41076464, 19.88924316,\n",
              "       19.91067555, 20.0892788 , 19.72492818, 19.68920753, 19.91067555,\n",
              "       20.05355815, 20.30360269, 20.41790877, 19.8749549 , 20.07499054,\n",
              "       19.86781077, 19.83209012, 20.210729  , 20.07499054, 20.19644074,\n",
              "       20.33217921, 20.03926989, 19.71063992, 19.63919862, 19.99640511,\n",
              "       19.69635166, 19.98926098, 20.12499945, 20.18929661, 20.03212576,\n",
              "       20.3536116 , 19.83209012, 19.8035136 , 19.8749549 , 20.05355815,\n",
              "       20.36789986, 19.89638729, 19.66777514, 20.09642293, 20.13214357,\n",
              "       20.36075573, 20.210729  , 19.6106221 , 19.98211685, 19.73921644,\n",
              "       19.83923425, 19.71063992, 19.63205449, 19.81780186, 19.90353142,\n",
              "       20.01069337, 19.78922534, 20.12499945, 19.98211685, 20.34646747,\n",
              "       20.36075573, 20.06070228, 19.88209903, 20.3536116 , 19.90353142,\n",
              "       19.61776623, 19.63205449, 20.10356706, 20.40362051, 20.2821703 ,\n",
              "       19.99640511, 19.6820634 , 19.73207231, 19.97497272, 19.61776623,\n",
              "       20.38218812, 19.98211685, 20.30360269, 20.36075573, 19.66777514,\n",
              "       20.23216139, 19.78208121, 19.77493708, 19.85352251, 19.96782859,\n",
              "       19.69635166, 20.08213467, 20.26073791, 20.02498163, 19.85352251,\n",
              "       19.85352251, 19.8035136 , 20.02498163, 20.16072009, 20.05355815,\n",
              "       20.17500835, 20.15357596, 19.66777514, 20.16786422, 19.88924316,\n",
              "       19.92496381, 20.1392877 , 20.27502617, 19.95354033, 20.38933225,\n",
              "       19.6106221 , 19.76779295, 19.76064882, 19.88209903, 19.71778405,\n",
              "       19.84637838, 20.23930552, 19.97497272, 19.61776623, 20.37504399,\n",
              "       20.33932334, 20.41790877, 19.60347797, 20.06784641, 20.36789986,\n",
              "       20.24644965, 20.20358487, 20.00354924, 19.91067555, 19.60347797,\n",
              "       19.76779295, 20.32503508, 19.71778405, 19.63205449, 20.26073791,\n",
              "       19.81065773, 20.33932334, 19.76779295, 19.90353142, 19.73207231,\n",
              "       20.210729  , 19.79636947, 19.72492818, 19.6820634 , 20.3536116 ,\n",
              "       19.6106221 , 20.36075573, 20.23930552, 20.26073791, 19.84637838,\n",
              "       20.23216139, 20.33217921, 20.37504399, 20.37504399, 20.32503508,\n",
              "       20.32503508, 19.93925207, 20.15357596, 19.76064882, 19.71063992,\n",
              "       20.33932334, 19.91781968, 19.82494599, 19.98926098, 19.6106221 ,\n",
              "       20.14643183, 19.81065773, 20.23930552, 19.79636947, 20.23930552,\n",
              "       20.41790877, 20.26788204, 19.93210794, 19.9463962 , 19.64634275,\n",
              "       19.76064882, 20.20358487, 20.08213467, 19.60347797, 19.67491927,\n",
              "       20.15357596, 20.18215248, 20.30360269, 19.81065773, 19.70349579,\n",
              "       19.99640511, 19.90353142, 19.79636947, 20.16072009, 19.79636947,\n",
              "       20.15357596, 20.1392877 , 20.05355815, 20.06070228, 19.82494599,\n",
              "       19.81780186, 20.31789095, 20.31074682, 19.85352251, 19.67491927,\n",
              "       20.25359378, 20.0178375 , 19.92496381, 19.8035136 , 19.64634275,\n",
              "       19.83209012, 20.24644965, 20.210729  , 19.73207231, 20.41076464,\n",
              "       19.86066664, 19.68920753, 19.73921644, 20.17500835, 19.60347797,\n",
              "       20.08213467, 20.12499945, 20.36789986, 20.33932334, 19.70349579,\n",
              "       20.06784641, 19.91781968, 20.40362051, 19.76064882, 19.91781968,\n",
              "       20.09642293, 19.81065773, 20.36789986, 20.00354924, 20.36789986,\n",
              "       20.01069337, 19.66063101, 19.67491927, 20.23216139, 20.16786422,\n",
              "       20.26073791, 20.06784641, 19.6106221 , 19.88924316, 19.64634275,\n",
              "       20.0892788 , 20.41076464, 20.09642293, 20.25359378, 20.41076464,\n",
              "       20.33932334, 19.60347797, 19.71778405, 20.19644074, 19.59633384,\n",
              "       20.20358487, 19.89638729, 20.21787313, 19.71778405, 19.73921644,\n",
              "       19.71778405, 20.04641402, 19.6106221 , 20.210729  , 20.19644074,\n",
              "       20.29645856, 19.61776623, 20.28931443, 19.8749549 , 20.28931443,\n",
              "       19.88924316, 20.28931443, 19.75350469, 20.3536116 , 20.38218812,\n",
              "       20.28931443, 19.86066664, 20.1392877 , 19.96782859, 19.99640511,\n",
              "       19.73207231, 19.59633384, 20.39647638, 20.24644965, 19.76064882,\n",
              "       20.20358487, 19.96068446, 19.81780186, 19.70349579, 20.37504399,\n",
              "       19.78922534, 20.0178375 , 20.16786422, 20.25359378, 19.74636056,\n",
              "       20.26073791, 20.31074682, 19.95354033, 19.63919862, 20.05355815,\n",
              "       20.30360269, 20.05355815, 19.77493708, 19.75350469, 20.40362051,\n",
              "       20.37504399, 20.18215248, 20.22501726])"
            ]
          },
          "metadata": {},
          "execution_count": 307
        }
      ]
    },
    {
      "cell_type": "code",
      "execution_count": 83,
      "id": "789878c5",
      "metadata": {
        "id": "789878c5"
      },
      "outputs": [],
      "source": [
        "#Multiple regression"
      ]
    },
    {
      "cell_type": "code",
      "execution_count": 171,
      "id": "3a6bd4b4",
      "metadata": {
        "colab": {
          "base_uri": "https://localhost:8080/",
          "height": 423
        },
        "id": "3a6bd4b4",
        "outputId": "b4399338-558d-4f6e-f07a-ab71bc238cb4"
      },
      "outputs": [
        {
          "output_type": "execute_result",
          "data": {
            "text/plain": [
              "      Temperature - (Celsius)  Year      Month\n",
              "0                     7.72768  1901    January\n",
              "1                     8.93600  1901   February\n",
              "2                    16.96320  1901      March\n",
              "3                    21.27410  1901      April\n",
              "4                    26.04970  1901        May\n",
              "...                       ...   ...        ...\n",
              "1387                 27.63320  2016     August\n",
              "1388                 26.71790  2016  September\n",
              "1389                 22.39820  2016    October\n",
              "1390                 15.76720  2016   November\n",
              "1391                 12.87630  2016   December\n",
              "\n",
              "[1392 rows x 3 columns]"
            ],
            "text/html": [
              "\n",
              "  <div id=\"df-55a5d6eb-c528-4909-8e3c-c517c6379a0a\">\n",
              "    <div class=\"colab-df-container\">\n",
              "      <div>\n",
              "<style scoped>\n",
              "    .dataframe tbody tr th:only-of-type {\n",
              "        vertical-align: middle;\n",
              "    }\n",
              "\n",
              "    .dataframe tbody tr th {\n",
              "        vertical-align: top;\n",
              "    }\n",
              "\n",
              "    .dataframe thead th {\n",
              "        text-align: right;\n",
              "    }\n",
              "</style>\n",
              "<table border=\"1\" class=\"dataframe\">\n",
              "  <thead>\n",
              "    <tr style=\"text-align: right;\">\n",
              "      <th></th>\n",
              "      <th>Temperature - (Celsius)</th>\n",
              "      <th>Year</th>\n",
              "      <th>Month</th>\n",
              "    </tr>\n",
              "  </thead>\n",
              "  <tbody>\n",
              "    <tr>\n",
              "      <th>0</th>\n",
              "      <td>7.72768</td>\n",
              "      <td>1901</td>\n",
              "      <td>January</td>\n",
              "    </tr>\n",
              "    <tr>\n",
              "      <th>1</th>\n",
              "      <td>8.93600</td>\n",
              "      <td>1901</td>\n",
              "      <td>February</td>\n",
              "    </tr>\n",
              "    <tr>\n",
              "      <th>2</th>\n",
              "      <td>16.96320</td>\n",
              "      <td>1901</td>\n",
              "      <td>March</td>\n",
              "    </tr>\n",
              "    <tr>\n",
              "      <th>3</th>\n",
              "      <td>21.27410</td>\n",
              "      <td>1901</td>\n",
              "      <td>April</td>\n",
              "    </tr>\n",
              "    <tr>\n",
              "      <th>4</th>\n",
              "      <td>26.04970</td>\n",
              "      <td>1901</td>\n",
              "      <td>May</td>\n",
              "    </tr>\n",
              "    <tr>\n",
              "      <th>...</th>\n",
              "      <td>...</td>\n",
              "      <td>...</td>\n",
              "      <td>...</td>\n",
              "    </tr>\n",
              "    <tr>\n",
              "      <th>1387</th>\n",
              "      <td>27.63320</td>\n",
              "      <td>2016</td>\n",
              "      <td>August</td>\n",
              "    </tr>\n",
              "    <tr>\n",
              "      <th>1388</th>\n",
              "      <td>26.71790</td>\n",
              "      <td>2016</td>\n",
              "      <td>September</td>\n",
              "    </tr>\n",
              "    <tr>\n",
              "      <th>1389</th>\n",
              "      <td>22.39820</td>\n",
              "      <td>2016</td>\n",
              "      <td>October</td>\n",
              "    </tr>\n",
              "    <tr>\n",
              "      <th>1390</th>\n",
              "      <td>15.76720</td>\n",
              "      <td>2016</td>\n",
              "      <td>November</td>\n",
              "    </tr>\n",
              "    <tr>\n",
              "      <th>1391</th>\n",
              "      <td>12.87630</td>\n",
              "      <td>2016</td>\n",
              "      <td>December</td>\n",
              "    </tr>\n",
              "  </tbody>\n",
              "</table>\n",
              "<p>1392 rows × 3 columns</p>\n",
              "</div>\n",
              "      <button class=\"colab-df-convert\" onclick=\"convertToInteractive('df-55a5d6eb-c528-4909-8e3c-c517c6379a0a')\"\n",
              "              title=\"Convert this dataframe to an interactive table.\"\n",
              "              style=\"display:none;\">\n",
              "        \n",
              "  <svg xmlns=\"http://www.w3.org/2000/svg\" height=\"24px\"viewBox=\"0 0 24 24\"\n",
              "       width=\"24px\">\n",
              "    <path d=\"M0 0h24v24H0V0z\" fill=\"none\"/>\n",
              "    <path d=\"M18.56 5.44l.94 2.06.94-2.06 2.06-.94-2.06-.94-.94-2.06-.94 2.06-2.06.94zm-11 1L8.5 8.5l.94-2.06 2.06-.94-2.06-.94L8.5 2.5l-.94 2.06-2.06.94zm10 10l.94 2.06.94-2.06 2.06-.94-2.06-.94-.94-2.06-.94 2.06-2.06.94z\"/><path d=\"M17.41 7.96l-1.37-1.37c-.4-.4-.92-.59-1.43-.59-.52 0-1.04.2-1.43.59L10.3 9.45l-7.72 7.72c-.78.78-.78 2.05 0 2.83L4 21.41c.39.39.9.59 1.41.59.51 0 1.02-.2 1.41-.59l7.78-7.78 2.81-2.81c.8-.78.8-2.07 0-2.86zM5.41 20L4 18.59l7.72-7.72 1.47 1.35L5.41 20z\"/>\n",
              "  </svg>\n",
              "      </button>\n",
              "      \n",
              "  <style>\n",
              "    .colab-df-container {\n",
              "      display:flex;\n",
              "      flex-wrap:wrap;\n",
              "      gap: 12px;\n",
              "    }\n",
              "\n",
              "    .colab-df-convert {\n",
              "      background-color: #E8F0FE;\n",
              "      border: none;\n",
              "      border-radius: 50%;\n",
              "      cursor: pointer;\n",
              "      display: none;\n",
              "      fill: #1967D2;\n",
              "      height: 32px;\n",
              "      padding: 0 0 0 0;\n",
              "      width: 32px;\n",
              "    }\n",
              "\n",
              "    .colab-df-convert:hover {\n",
              "      background-color: #E2EBFA;\n",
              "      box-shadow: 0px 1px 2px rgba(60, 64, 67, 0.3), 0px 1px 3px 1px rgba(60, 64, 67, 0.15);\n",
              "      fill: #174EA6;\n",
              "    }\n",
              "\n",
              "    [theme=dark] .colab-df-convert {\n",
              "      background-color: #3B4455;\n",
              "      fill: #D2E3FC;\n",
              "    }\n",
              "\n",
              "    [theme=dark] .colab-df-convert:hover {\n",
              "      background-color: #434B5C;\n",
              "      box-shadow: 0px 1px 3px 1px rgba(0, 0, 0, 0.15);\n",
              "      filter: drop-shadow(0px 1px 2px rgba(0, 0, 0, 0.3));\n",
              "      fill: #FFFFFF;\n",
              "    }\n",
              "  </style>\n",
              "\n",
              "      <script>\n",
              "        const buttonEl =\n",
              "          document.querySelector('#df-55a5d6eb-c528-4909-8e3c-c517c6379a0a button.colab-df-convert');\n",
              "        buttonEl.style.display =\n",
              "          google.colab.kernel.accessAllowed ? 'block' : 'none';\n",
              "\n",
              "        async function convertToInteractive(key) {\n",
              "          const element = document.querySelector('#df-55a5d6eb-c528-4909-8e3c-c517c6379a0a');\n",
              "          const dataTable =\n",
              "            await google.colab.kernel.invokeFunction('convertToInteractive',\n",
              "                                                     [key], {});\n",
              "          if (!dataTable) return;\n",
              "\n",
              "          const docLinkHtml = 'Like what you see? Visit the ' +\n",
              "            '<a target=\"_blank\" href=https://colab.research.google.com/notebooks/data_table.ipynb>data table notebook</a>'\n",
              "            + ' to learn more about interactive tables.';\n",
              "          element.innerHTML = '';\n",
              "          dataTable['output_type'] = 'display_data';\n",
              "          await google.colab.output.renderOutput(dataTable, element);\n",
              "          const docLink = document.createElement('div');\n",
              "          docLink.innerHTML = docLinkHtml;\n",
              "          element.appendChild(docLink);\n",
              "        }\n",
              "      </script>\n",
              "    </div>\n",
              "  </div>\n",
              "  "
            ]
          },
          "metadata": {},
          "execution_count": 171
        }
      ],
      "source": [
        "df"
      ]
    },
    {
      "cell_type": "code",
      "execution_count": 172,
      "id": "ec085a5d",
      "metadata": {
        "colab": {
          "base_uri": "https://localhost:8080/"
        },
        "id": "ec085a5d",
        "outputId": "e0d49bbb-8865-46c9-e688-c706fe2830c8"
      },
      "outputs": [
        {
          "output_type": "execute_result",
          "data": {
            "text/plain": [
              "array(['Temperature - (Celsius)', 'Year', 'Month'], dtype=object)"
            ]
          },
          "metadata": {},
          "execution_count": 172
        }
      ],
      "source": [
        "df.columns.values"
      ]
    },
    {
      "cell_type": "code",
      "execution_count": 262,
      "id": "c7ca6840",
      "metadata": {
        "id": "c7ca6840"
      },
      "outputs": [],
      "source": [
        "x_train, x_test, y_train, y_test = train_test_split(df['Temperature - (Celsius)'], (df['Year']), test_size = 0.2)"
      ]
    },
    {
      "cell_type": "code",
      "execution_count": 255,
      "id": "f9cbefdb",
      "metadata": {
        "id": "f9cbefdb"
      },
      "outputs": [],
      "source": [
        "regr = LinearRegression()"
      ]
    },
    {
      "cell_type": "code",
      "execution_count": 263,
      "id": "faa0a285",
      "metadata": {
        "colab": {
          "base_uri": "https://localhost:8080/"
        },
        "id": "faa0a285",
        "outputId": "f0eeb918-8d5b-4854-ee27-0e04c20a0bea"
      },
      "outputs": [
        {
          "output_type": "execute_result",
          "data": {
            "text/plain": [
              "LinearRegression()"
            ]
          },
          "metadata": {},
          "execution_count": 263
        }
      ],
      "source": [
        "regr.fit(np.array(x_train).reshape(-1,1), y_train)"
      ]
    },
    {
      "cell_type": "code",
      "execution_count": 264,
      "id": "d707f633",
      "metadata": {
        "colab": {
          "base_uri": "https://localhost:8080/"
        },
        "id": "d707f633",
        "outputId": "5997776b-33ed-48db-ad1a-e6366d5a055f"
      },
      "outputs": [
        {
          "output_type": "execute_result",
          "data": {
            "text/plain": [
              "367     1931\n",
              "760     1964\n",
              "416     1935\n",
              "339     1929\n",
              "1044    1988\n",
              "Name: Year, dtype: int64"
            ]
          },
          "metadata": {},
          "execution_count": 264
        }
      ],
      "source": [
        "y_test.head()"
      ]
    },
    {
      "cell_type": "code",
      "execution_count": 265,
      "id": "40111ae9",
      "metadata": {
        "id": "40111ae9"
      },
      "outputs": [],
      "source": [
        "preds = regr.predict(np.array(x_test).reshape(-1,1))"
      ]
    },
    {
      "cell_type": "code",
      "execution_count": 233,
      "id": "3b5e66e1",
      "metadata": {
        "colab": {
          "base_uri": "https://localhost:8080/"
        },
        "id": "3b5e66e1",
        "outputId": "5f53b0d6-369f-44d8-8221-cd80e6d6cab7"
      },
      "outputs": [
        {
          "output_type": "execute_result",
          "data": {
            "text/plain": [
              "array([1959.06375886, 1958.22531967, 1958.4065824 , 1959.32507992,\n",
              "       1959.07240137, 1959.00223846, 1957.77413172, 1958.29123804,\n",
              "       1956.70636156, 1959.4170409 , 1958.70615555, 1957.63610715,\n",
              "       1957.8556731 , 1958.93653743, 1957.25615603, 1959.41059737,\n",
              "       1958.55726391, 1956.89580527, 1958.93914553, 1959.04233155,\n",
              "       1958.51641651, 1958.79297705, 1959.35415253, 1957.06325915,\n",
              "       1957.77882374, 1959.43474783, 1959.34590634, 1957.08524898,\n",
              "       1957.51961216, 1959.42388076, 1957.51045825, 1958.17132951,\n",
              "       1959.42845772, 1957.88700861, 1957.35399801, 1957.7741445 ,\n",
              "       1959.16607551, 1959.1728131 , 1959.39878423, 1957.68206846,\n",
              "       1956.94133063, 1957.50196915, 1959.1992009 , 1956.64091623,\n",
              "       1958.99289278, 1958.93924781, 1959.40991978, 1957.23921619,\n",
              "       1958.32452963, 1958.2921074 , 1959.48366243, 1956.87076371,\n",
              "       1958.86856071, 1959.31468589, 1959.38883766, 1956.9262612 ,\n",
              "       1957.01899438, 1959.19490521, 1957.06818129, 1958.85803883,\n",
              "       1959.14733302, 1959.53407285, 1959.44776275, 1957.3071929 ,\n",
              "       1957.81703747, 1959.39007779, 1959.39095994, 1959.08008503,\n",
              "       1958.63540453, 1959.26602699, 1959.48607876, 1959.46212007,\n",
              "       1959.32472195, 1956.990538  , 1958.26187138, 1959.19517369,\n",
              "       1957.26812259, 1956.73347682, 1959.38495109, 1959.43699796,\n",
              "       1958.32105216, 1956.88150293, 1957.75701289, 1959.4291481 ,\n",
              "       1959.39505107, 1959.38193388, 1957.8703756 , 1957.56120107,\n",
              "       1958.33361961, 1958.56210934, 1959.45299173, 1956.91586077,\n",
              "       1959.28838758, 1958.88197195, 1957.43290573, 1959.49510482,\n",
              "       1958.97652825, 1956.99800559, 1957.20509359, 1959.24017615,\n",
              "       1957.20266448, 1959.52173553, 1959.30487996, 1957.44107521,\n",
              "       1957.84635299, 1957.0501036 , 1959.1675202 , 1958.57888299,\n",
              "       1959.44272554, 1957.76184554, 1959.04019649, 1959.40741396,\n",
              "       1957.70513222, 1959.55025839, 1959.29931858, 1957.11069071,\n",
              "       1958.33280139, 1957.19496804, 1956.62958763, 1959.03618207,\n",
              "       1957.088931  , 1958.49166516, 1957.73593077, 1959.48451901,\n",
              "       1959.11556282, 1959.15511895, 1959.25380473, 1959.14429024,\n",
              "       1959.28733923, 1958.94828665, 1958.03583633, 1959.20606633,\n",
              "       1956.71010111, 1958.97541597, 1958.47436734, 1959.00960249,\n",
              "       1957.08551747, 1959.26027383, 1957.62410223, 1956.83297827,\n",
              "       1957.63537841, 1956.81735142, 1958.5982008 , 1958.51963828,\n",
              "       1958.96327042, 1957.66583178, 1957.07595444, 1959.13697734,\n",
              "       1958.34417985, 1959.49640887, 1958.00848967, 1959.05068002,\n",
              "       1959.03882852, 1959.4802489 , 1959.4115818 , 1959.26949166,\n",
              "       1957.75522302, 1959.47966079, 1956.59004301, 1959.38287995,\n",
              "       1959.35945822, 1957.03482578, 1959.22633022, 1957.1635686 ,\n",
              "       1958.26464568, 1959.11319763, 1957.58894406, 1959.05445153,\n",
              "       1957.6269021 , 1956.94656728, 1959.28599683, 1956.9658135 ,\n",
              "       1959.15940185, 1956.9379401 , 1957.50414256, 1956.86353263,\n",
              "       1957.15336634, 1958.66427258, 1956.75968691, 1959.43961884,\n",
              "       1959.01687704, 1959.45226299, 1959.18196701, 1958.2832859 ,\n",
              "       1958.46342356, 1956.93615534, 1957.1064973 , 1959.30871539,\n",
              "       1958.89441155, 1959.23758083, 1958.85598048, 1959.08335794,\n",
              "       1956.71744853, 1958.33902758, 1957.05292904, 1958.13618413,\n",
              "       1958.968167  , 1957.543443  , 1957.16090936, 1958.55771138,\n",
              "       1957.94170193, 1957.715066  , 1959.41824267, 1957.73853887,\n",
              "       1959.39769752, 1957.75756263, 1956.93568742, 1957.38978264,\n",
              "       1958.21651095, 1959.00515339, 1959.39262196, 1958.89667446,\n",
              "       1958.28703184, 1959.5230268 , 1957.6801891 , 1958.13765438,\n",
              "       1958.56686528, 1959.41659344, 1956.72087102, 1959.16193324,\n",
              "       1959.28409189, 1959.4205695 , 1959.45136806, 1957.1633129 ,\n",
              "       1956.77909294, 1959.10290588, 1958.36033982, 1956.79227023,\n",
              "       1958.93846793, 1959.22664984, 1959.36311467, 1958.32729114,\n",
              "       1957.79125055, 1957.65730433, 1959.05868329, 1959.43424923,\n",
              "       1958.71147402, 1959.02012437, 1959.53062096, 1957.05198297,\n",
              "       1957.5866428 , 1957.23612227, 1959.27190799, 1957.77098666,\n",
              "       1956.81238965, 1956.96399166, 1956.73438838, 1958.47174646,\n",
              "       1956.85618522, 1958.97558217, 1959.36103075, 1957.63490538,\n",
              "       1958.95502423, 1959.41627382, 1957.72570294, 1956.78901266,\n",
              "       1958.99133303, 1957.0525455 , 1959.38808336, 1958.48988808,\n",
              "       1959.3496395 , 1957.9583733 , 1959.27589684, 1957.66445102,\n",
              "       1956.78171127, 1957.74595405, 1957.68376884, 1959.3768711 ,\n",
              "       1958.56915376, 1958.97668166, 1956.98995885, 1957.74307747,\n",
              "       1956.90814643, 1959.43894125, 1956.98847709, 1958.65658893,\n",
              "       1958.33826049, 1959.37598895, 1959.07217125])"
            ]
          },
          "metadata": {},
          "execution_count": 233
        }
      ],
      "source": [
        "preds"
      ]
    },
    {
      "cell_type": "code",
      "execution_count": 94,
      "id": "12242df3",
      "metadata": {
        "id": "12242df3"
      },
      "outputs": [],
      "source": [
        "residuals = preds - y_test"
      ]
    },
    {
      "cell_type": "code",
      "execution_count": 95,
      "id": "40791b3b",
      "metadata": {
        "colab": {
          "base_uri": "https://localhost:8080/",
          "height": 356
        },
        "id": "40791b3b",
        "outputId": "d6c7d5a8-8988-4d15-9cd4-b1f6f5df5265"
      },
      "outputs": [
        {
          "output_type": "execute_result",
          "data": {
            "text/plain": [
              "(array([34., 34., 28., 31., 20., 18., 33., 27., 25., 29.]),\n",
              " array([-5.78584548e+01, -4.62837105e+01, -3.47089661e+01, -2.31342217e+01,\n",
              "        -1.15594774e+01,  1.52669929e-02,  1.15900114e+01,  2.31647557e+01,\n",
              "         3.47395001e+01,  4.63142444e+01,  5.78889888e+01]),\n",
              " <a list of 10 Patch objects>)"
            ]
          },
          "metadata": {},
          "execution_count": 95
        },
        {
          "output_type": "display_data",
          "data": {
            "text/plain": [
              "<Figure size 432x288 with 1 Axes>"
            ],
            "image/png": "[encoded data removed]"
          },
          "metadata": {
            "needs_background": "light"
          }
        }
      ],
      "source": [
        "plt.hist(residuals)"
      ]
    },
    {
      "cell_type": "code",
      "execution_count": 96,
      "id": "b5bffcf3",
      "metadata": {
        "colab": {
          "base_uri": "https://localhost:8080/"
        },
        "id": "b5bffcf3",
        "outputId": "1eab0830-afb3-4b62-aa2c-b2f6320b98bd"
      },
      "outputs": [
        {
          "output_type": "execute_result",
          "data": {
            "text/plain": [
              "34.85549127663882"
            ]
          },
          "metadata": {},
          "execution_count": 96
        }
      ],
      "source": [
        "mean_squared_error(y_test, preds) ** 0.5"
      ]
    },
    {
      "cell_type": "code",
      "execution_count": 97,
      "id": "8c114ada",
      "metadata": {
        "id": "8c114ada"
      },
      "outputs": [],
      "source": [
        "from sklearn.preprocessing import LabelEncoder"
      ]
    },
    {
      "cell_type": "code",
      "execution_count": 99,
      "id": "a48cbd6f",
      "metadata": {
        "colab": {
          "base_uri": "https://localhost:8080/"
        },
        "id": "a48cbd6f",
        "outputId": "389ea373-e3e9-4c6c-afb6-202187b850cd"
      },
      "outputs": [
        {
          "output_type": "stream",
          "name": "stdout",
          "text": [
            "Temperature - (Celsius)    False\n",
            "Year                       False\n",
            "Month                      False\n",
            "dtype: bool\n"
          ]
        }
      ],
      "source": [
        "print(df.isnull().any())"
      ]
    },
    {
      "cell_type": "code",
      "execution_count": 100,
      "id": "022a8775",
      "metadata": {
        "scrolled": true,
        "colab": {
          "base_uri": "https://localhost:8080/"
        },
        "id": "022a8775",
        "outputId": "0f1c2c43-3d61-4cd5-ea1d-56c9056912b4"
      },
      "outputs": [
        {
          "output_type": "stream",
          "name": "stdout",
          "text": [
            "Temperature - (Celsius)    float64\n",
            "Year                         int64\n",
            "Month                       object\n",
            "dtype: object\n"
          ]
        }
      ],
      "source": [
        "print(df.dtypes)"
      ]
    },
    {
      "cell_type": "code",
      "execution_count": 101,
      "id": "1fa81a06",
      "metadata": {
        "id": "1fa81a06"
      },
      "outputs": [],
      "source": [
        "target = df['Year']"
      ]
    },
    {
      "cell_type": "code",
      "execution_count": 102,
      "id": "1ef8784e",
      "metadata": {
        "id": "1ef8784e"
      },
      "outputs": [],
      "source": [
        "le_Month = LabelEncoder()"
      ]
    },
    {
      "cell_type": "code",
      "execution_count": 103,
      "id": "d42c6eb6",
      "metadata": {
        "id": "d42c6eb6"
      },
      "outputs": [],
      "source": [
        "inputs = df['Month']"
      ]
    },
    {
      "cell_type": "code",
      "execution_count": 104,
      "id": "e3cdb6a2",
      "metadata": {
        "id": "e3cdb6a2"
      },
      "outputs": [],
      "source": [
        "inputs_n = df.drop(['Month'],axis='columns')"
      ]
    },
    {
      "cell_type": "code",
      "execution_count": 105,
      "id": "24651214",
      "metadata": {
        "colab": {
          "base_uri": "https://localhost:8080/",
          "height": 423
        },
        "id": "24651214",
        "outputId": "a0be9078-0c1e-4f8f-8aa6-d830187d611f"
      },
      "outputs": [
        {
          "output_type": "execute_result",
          "data": {
            "text/plain": [
              "      Temperature - (Celsius)  Year\n",
              "0                     7.72768  1901\n",
              "1                     8.93600  1901\n",
              "2                    16.96320  1901\n",
              "3                    21.27410  1901\n",
              "4                    26.04970  1901\n",
              "...                       ...   ...\n",
              "1387                 27.63320  2016\n",
              "1388                 26.71790  2016\n",
              "1389                 22.39820  2016\n",
              "1390                 15.76720  2016\n",
              "1391                 12.87630  2016\n",
              "\n",
              "[1392 rows x 2 columns]"
            ],
            "text/html": [
              "\n",
              "  <div id=\"df-e2a37653-c052-4244-9a74-49facecc8fcf\">\n",
              "    <div class=\"colab-df-container\">\n",
              "      <div>\n",
              "<style scoped>\n",
              "    .dataframe tbody tr th:only-of-type {\n",
              "        vertical-align: middle;\n",
              "    }\n",
              "\n",
              "    .dataframe tbody tr th {\n",
              "        vertical-align: top;\n",
              "    }\n",
              "\n",
              "    .dataframe thead th {\n",
              "        text-align: right;\n",
              "    }\n",
              "</style>\n",
              "<table border=\"1\" class=\"dataframe\">\n",
              "  <thead>\n",
              "    <tr style=\"text-align: right;\">\n",
              "      <th></th>\n",
              "      <th>Temperature - (Celsius)</th>\n",
              "      <th>Year</th>\n",
              "    </tr>\n",
              "  </thead>\n",
              "  <tbody>\n",
              "    <tr>\n",
              "      <th>0</th>\n",
              "      <td>7.72768</td>\n",
              "      <td>1901</td>\n",
              "    </tr>\n",
              "    <tr>\n",
              "      <th>1</th>\n",
              "      <td>8.93600</td>\n",
              "      <td>1901</td>\n",
              "    </tr>\n",
              "    <tr>\n",
              "      <th>2</th>\n",
              "      <td>16.96320</td>\n",
              "      <td>1901</td>\n",
              "    </tr>\n",
              "    <tr>\n",
              "      <th>3</th>\n",
              "      <td>21.27410</td>\n",
              "      <td>1901</td>\n",
              "    </tr>\n",
              "    <tr>\n",
              "      <th>4</th>\n",
              "      <td>26.04970</td>\n",
              "      <td>1901</td>\n",
              "    </tr>\n",
              "    <tr>\n",
              "      <th>...</th>\n",
              "      <td>...</td>\n",
              "      <td>...</td>\n",
              "    </tr>\n",
              "    <tr>\n",
              "      <th>1387</th>\n",
              "      <td>27.63320</td>\n",
              "      <td>2016</td>\n",
              "    </tr>\n",
              "    <tr>\n",
              "      <th>1388</th>\n",
              "      <td>26.71790</td>\n",
              "      <td>2016</td>\n",
              "    </tr>\n",
              "    <tr>\n",
              "      <th>1389</th>\n",
              "      <td>22.39820</td>\n",
              "      <td>2016</td>\n",
              "    </tr>\n",
              "    <tr>\n",
              "      <th>1390</th>\n",
              "      <td>15.76720</td>\n",
              "      <td>2016</td>\n",
              "    </tr>\n",
              "    <tr>\n",
              "      <th>1391</th>\n",
              "      <td>12.87630</td>\n",
              "      <td>2016</td>\n",
              "    </tr>\n",
              "  </tbody>\n",
              "</table>\n",
              "<p>1392 rows × 2 columns</p>\n",
              "</div>\n",
              "      <button class=\"colab-df-convert\" onclick=\"convertToInteractive('df-e2a37653-c052-4244-9a74-49facecc8fcf')\"\n",
              "              title=\"Convert this dataframe to an interactive table.\"\n",
              "              style=\"display:none;\">\n",
              "        \n",
              "  <svg xmlns=\"http://www.w3.org/2000/svg\" height=\"24px\"viewBox=\"0 0 24 24\"\n",
              "       width=\"24px\">\n",
              "    <path d=\"M0 0h24v24H0V0z\" fill=\"none\"/>\n",
              "    <path d=\"M18.56 5.44l.94 2.06.94-2.06 2.06-.94-2.06-.94-.94-2.06-.94 2.06-2.06.94zm-11 1L8.5 8.5l.94-2.06 2.06-.94-2.06-.94L8.5 2.5l-.94 2.06-2.06.94zm10 10l.94 2.06.94-2.06 2.06-.94-2.06-.94-.94-2.06-.94 2.06-2.06.94z\"/><path d=\"M17.41 7.96l-1.37-1.37c-.4-.4-.92-.59-1.43-.59-.52 0-1.04.2-1.43.59L10.3 9.45l-7.72 7.72c-.78.78-.78 2.05 0 2.83L4 21.41c.39.39.9.59 1.41.59.51 0 1.02-.2 1.41-.59l7.78-7.78 2.81-2.81c.8-.78.8-2.07 0-2.86zM5.41 20L4 18.59l7.72-7.72 1.47 1.35L5.41 20z\"/>\n",
              "  </svg>\n",
              "      </button>\n",
              "      \n",
              "  <style>\n",
              "    .colab-df-container {\n",
              "      display:flex;\n",
              "      flex-wrap:wrap;\n",
              "      gap: 12px;\n",
              "    }\n",
              "\n",
              "    .colab-df-convert {\n",
              "      background-color: #E8F0FE;\n",
              "      border: none;\n",
              "      border-radius: 50%;\n",
              "      cursor: pointer;\n",
              "      display: none;\n",
              "      fill: #1967D2;\n",
              "      height: 32px;\n",
              "      padding: 0 0 0 0;\n",
              "      width: 32px;\n",
              "    }\n",
              "\n",
              "    .colab-df-convert:hover {\n",
              "      background-color: #E2EBFA;\n",
              "      box-shadow: 0px 1px 2px rgba(60, 64, 67, 0.3), 0px 1px 3px 1px rgba(60, 64, 67, 0.15);\n",
              "      fill: #174EA6;\n",
              "    }\n",
              "\n",
              "    [theme=dark] .colab-df-convert {\n",
              "      background-color: #3B4455;\n",
              "      fill: #D2E3FC;\n",
              "    }\n",
              "\n",
              "    [theme=dark] .colab-df-convert:hover {\n",
              "      background-color: #434B5C;\n",
              "      box-shadow: 0px 1px 3px 1px rgba(0, 0, 0, 0.15);\n",
              "      filter: drop-shadow(0px 1px 2px rgba(0, 0, 0, 0.3));\n",
              "      fill: #FFFFFF;\n",
              "    }\n",
              "  </style>\n",
              "\n",
              "      <script>\n",
              "        const buttonEl =\n",
              "          document.querySelector('#df-e2a37653-c052-4244-9a74-49facecc8fcf button.colab-df-convert');\n",
              "        buttonEl.style.display =\n",
              "          google.colab.kernel.accessAllowed ? 'block' : 'none';\n",
              "\n",
              "        async function convertToInteractive(key) {\n",
              "          const element = document.querySelector('#df-e2a37653-c052-4244-9a74-49facecc8fcf');\n",
              "          const dataTable =\n",
              "            await google.colab.kernel.invokeFunction('convertToInteractive',\n",
              "                                                     [key], {});\n",
              "          if (!dataTable) return;\n",
              "\n",
              "          const docLinkHtml = 'Like what you see? Visit the ' +\n",
              "            '<a target=\"_blank\" href=https://colab.research.google.com/notebooks/data_table.ipynb>data table notebook</a>'\n",
              "            + ' to learn more about interactive tables.';\n",
              "          element.innerHTML = '';\n",
              "          dataTable['output_type'] = 'display_data';\n",
              "          await google.colab.output.renderOutput(dataTable, element);\n",
              "          const docLink = document.createElement('div');\n",
              "          docLink.innerHTML = docLinkHtml;\n",
              "          element.appendChild(docLink);\n",
              "        }\n",
              "      </script>\n",
              "    </div>\n",
              "  </div>\n",
              "  "
            ]
          },
          "metadata": {},
          "execution_count": 105
        }
      ],
      "source": [
        "inputs_n"
      ]
    },
    {
      "cell_type": "code",
      "execution_count": 106,
      "id": "ba42d11e",
      "metadata": {
        "colab": {
          "base_uri": "https://localhost:8080/"
        },
        "id": "ba42d11e",
        "outputId": "3ac1210e-6f04-4616-b52a-e30c180ef1d9"
      },
      "outputs": [
        {
          "output_type": "execute_result",
          "data": {
            "text/plain": [
              "0       1901\n",
              "1       1901\n",
              "2       1901\n",
              "3       1901\n",
              "4       1901\n",
              "        ... \n",
              "1387    2016\n",
              "1388    2016\n",
              "1389    2016\n",
              "1390    2016\n",
              "1391    2016\n",
              "Name: Year, Length: 1392, dtype: int64"
            ]
          },
          "metadata": {},
          "execution_count": 106
        }
      ],
      "source": [
        "target"
      ]
    },
    {
      "cell_type": "code",
      "execution_count": 107,
      "id": "71f7c4d1",
      "metadata": {
        "id": "71f7c4d1"
      },
      "outputs": [],
      "source": [
        "from sklearn import tree\n",
        "model = tree.DecisionTreeClassifier()"
      ]
    },
    {
      "cell_type": "code",
      "execution_count": 108,
      "id": "de9dbab6",
      "metadata": {
        "colab": {
          "base_uri": "https://localhost:8080/"
        },
        "id": "de9dbab6",
        "outputId": "4babcfc5-1db2-44fc-a64a-a0ad3d30fccd"
      },
      "outputs": [
        {
          "output_type": "execute_result",
          "data": {
            "text/plain": [
              "DecisionTreeClassifier()"
            ]
          },
          "metadata": {},
          "execution_count": 108
        }
      ],
      "source": [
        "model.fit(inputs_n, target)"
      ]
    },
    {
      "cell_type": "code",
      "execution_count": 109,
      "id": "dcded391",
      "metadata": {
        "id": "dcded391",
        "colab": {
          "base_uri": "https://localhost:8080/"
        },
        "outputId": "2ec680df-4ad1-406c-803e-6632fc5debfa"
      },
      "outputs": [
        {
          "output_type": "execute_result",
          "data": {
            "text/plain": [
              "1.0"
            ]
          },
          "metadata": {},
          "execution_count": 109
        }
      ],
      "source": [
        "model.score(inputs_n,target)"
      ]
    },
    {
      "cell_type": "code",
      "execution_count": 110,
      "id": "46436697",
      "metadata": {
        "id": "46436697"
      },
      "outputs": [],
      "source": [
        "#random forest regressor"
      ]
    },
    {
      "cell_type": "code",
      "execution_count": 111,
      "id": "d35a8dd0",
      "metadata": {
        "colab": {
          "base_uri": "https://localhost:8080/"
        },
        "id": "d35a8dd0",
        "outputId": "39ecdc06-a29e-4ff7-cf2d-1d4b2aaaad75"
      },
      "outputs": [
        {
          "output_type": "execute_result",
          "data": {
            "text/plain": [
              "['DESCR',\n",
              " 'data',\n",
              " 'data_module',\n",
              " 'feature_names',\n",
              " 'filename',\n",
              " 'frame',\n",
              " 'target',\n",
              " 'target_names']"
            ]
          },
          "metadata": {},
          "execution_count": 111
        }
      ],
      "source": [
        "from sklearn.datasets import load_iris\n",
        "iris = load_iris()\n",
        "dir(iris)"
      ]
    },
    {
      "cell_type": "code",
      "execution_count": 112,
      "id": "62515780",
      "metadata": {
        "id": "62515780"
      },
      "outputs": [],
      "source": [
        "from sklearn.model_selection import train_test_split\n",
        "x_train, x_test, y_train, y_test = train_test_split (x,y,random_state=100)"
      ]
    },
    {
      "cell_type": "code",
      "execution_count": 113,
      "id": "c1424d05",
      "metadata": {
        "colab": {
          "base_uri": "https://localhost:8080/"
        },
        "id": "c1424d05",
        "outputId": "329ad47c-e5e4-4a7b-931b-94e749a41de6"
      },
      "outputs": [
        {
          "output_type": "execute_result",
          "data": {
            "text/plain": [
              "(1044,)"
            ]
          },
          "metadata": {},
          "execution_count": 113
        }
      ],
      "source": [
        "x_train.shape"
      ]
    },
    {
      "cell_type": "code",
      "source": [
        "#Random Forest Model"
      ],
      "metadata": {
        "id": "pvE5KObOaX4q"
      },
      "id": "pvE5KObOaX4q",
      "execution_count": 115,
      "outputs": []
    },
    {
      "cell_type": "code",
      "execution_count": 114,
      "id": "cdf5a666",
      "metadata": {
        "id": "cdf5a666"
      },
      "outputs": [],
      "source": [
        "from sklearn.ensemble import RandomForestRegressor"
      ]
    },
    {
      "cell_type": "code",
      "execution_count": 116,
      "id": "713f0394",
      "metadata": {
        "id": "713f0394"
      },
      "outputs": [],
      "source": [
        "model = RandomForestRegressor()"
      ]
    },
    {
      "cell_type": "code",
      "execution_count": 118,
      "id": "933e2260",
      "metadata": {
        "colab": {
          "base_uri": "https://localhost:8080/"
        },
        "id": "933e2260",
        "outputId": "550b3e5e-758e-4ef4-b5c2-7a74e9d824b5"
      },
      "outputs": [
        {
          "output_type": "execute_result",
          "data": {
            "text/plain": [
              "RandomForestRegressor()"
            ]
          },
          "metadata": {},
          "execution_count": 118
        }
      ],
      "source": [
        "model.fit(inputs_n, target)"
      ]
    },
    {
      "cell_type": "code",
      "execution_count": 119,
      "id": "b2e3fd98",
      "metadata": {
        "id": "b2e3fd98"
      },
      "outputs": [],
      "source": [
        "preds = regr.predict(np.array(x_test).reshape(-1,1))"
      ]
    },
    {
      "cell_type": "code",
      "execution_count": 120,
      "id": "ed3ffd44",
      "metadata": {
        "colab": {
          "base_uri": "https://localhost:8080/"
        },
        "id": "ed3ffd44",
        "outputId": "2d500122-a8ef-4a04-fc87-023eed854679"
      },
      "outputs": [
        {
          "output_type": "execute_result",
          "data": {
            "text/plain": [
              "array([1958.29098574, 1958.21817559, 1957.7173799 , 1957.02664328,\n",
              "       1958.87805524, 1958.64771734, 1956.94736937, 1957.1507619 ,\n",
              "       1958.99883656, 1958.9749313 , 1958.82030511, 1956.98546719,\n",
              "       1957.03529074, 1957.6146204 , 1959.01070385, 1957.63720038,\n",
              "       1958.60907334, 1958.5513734 , 1958.01037751, 1958.99308364,\n",
              "       1958.80361861, 1957.25398324, 1957.03464015, 1957.23635299,\n",
              "       1958.8545817 , 1958.11454261, 1958.84955166, 1958.35090452,\n",
              "       1958.88840649, 1958.43352377, 1958.81565658, 1957.07544978,\n",
              "       1958.67633136, 1958.42461828, 1957.56648859, 1957.08494964,\n",
              "       1958.63884197, 1957.22273873, 1957.63384702, 1958.51387396,\n",
              "       1958.66453435, 1958.94022298, 1958.90538415, 1958.872975  ,\n",
              "       1957.1061441 , 1958.77263514, 1958.93318494, 1958.5934812 ,\n",
              "       1956.96993128, 1958.85244318, 1958.07124005, 1958.29914827,\n",
              "       1957.67494078, 1958.97994126, 1956.9868226 , 1958.32634666,\n",
              "       1958.65188394, 1958.60012769, 1959.07515068, 1956.88704197,\n",
              "       1957.75316249, 1958.63440428, 1957.55787426, 1957.1051903 ,\n",
              "       1957.18011889, 1958.17498347, 1957.70052272, 1956.88897065,\n",
              "       1958.80154033, 1958.96547361, 1957.12662572, 1959.07004031,\n",
              "       1958.57109198, 1959.06912667, 1957.06698003, 1957.77648544,\n",
              "       1958.91818516, 1958.59730645, 1958.09064739, 1957.11697727,\n",
              "       1957.02224576, 1958.03698353, 1957.0139005 , 1957.96582998,\n",
              "       1957.22836114, 1956.84231774, 1958.72681253, 1959.03162723,\n",
              "       1957.53836652, 1958.96861613, 1957.82660517, 1958.88820569,\n",
              "       1958.99697916, 1957.60445991, 1958.58426447, 1958.99733056,\n",
              "       1956.88908611, 1958.60259753, 1957.41278608, 1956.80940658,\n",
              "       1956.99026933, 1958.88374793, 1957.60145795, 1958.9160366 ,\n",
              "       1957.29982593, 1959.01963946, 1957.46801617, 1958.99329448,\n",
              "       1958.84187105, 1956.98547422, 1959.0012562 , 1958.22513332,\n",
              "       1958.61764751, 1959.04613505, 1959.07448804, 1959.07265071,\n",
              "       1957.61047387, 1958.68624085, 1958.99656752, 1957.49790528,\n",
              "       1958.82930096, 1958.67116076, 1958.33795291, 1957.06573306,\n",
              "       1957.60293383, 1958.65294818, 1956.78530755, 1958.7359891 ,\n",
              "       1958.99818396, 1958.21816555, 1958.88504309, 1958.02955393,\n",
              "       1958.01990548, 1959.03182803, 1958.53670495, 1958.54088159,\n",
              "       1958.1469116 , 1958.52741794, 1958.96301381, 1957.05425532,\n",
              "       1957.05616694, 1958.32747114, 1958.98262195, 1957.18828142,\n",
              "       1957.23973647, 1957.49458204, 1957.14038053, 1957.07225706,\n",
              "       1957.01720969, 1958.34483032, 1958.59076036, 1958.24898838,\n",
              "       1957.25782857, 1958.0992316 , 1957.30547845, 1956.9238637 ,\n",
              "       1958.46554136, 1958.61045886, 1956.86088573, 1958.64148249,\n",
              "       1957.07103619, 1956.853425  , 1958.86356751, 1959.03303284,\n",
              "       1957.70141628, 1958.86087679, 1958.90798451, 1957.6189878 ,\n",
              "       1959.02202899, 1958.65778747, 1959.01459938, 1957.05825024,\n",
              "       1959.02248079, 1959.04636597, 1958.87921988, 1956.92276733,\n",
              "       1958.25013294, 1957.006749  , 1958.59726629, 1958.43625465,\n",
              "       1957.79504942, 1957.4555264 , 1958.99843496, 1957.5522117 ,\n",
              "       1957.03324861, 1958.71733476, 1958.81063658, 1958.90071555,\n",
              "       1959.01195886, 1957.57636796, 1958.09059719, 1958.23732189,\n",
              "       1958.91933976, 1958.14849792, 1957.00773694, 1957.65310376,\n",
              "       1958.92908861, 1957.77423648, 1957.75699778, 1958.90172959,\n",
              "       1958.25018314, 1957.23279882, 1959.01841458, 1958.06307752,\n",
              "       1958.62556907, 1957.48852791, 1958.24082586, 1959.02888631,\n",
              "       1956.88941944, 1957.34608025, 1957.16431591, 1957.13978817,\n",
              "       1957.58571521, 1956.84540906, 1959.01516162, 1958.52521918,\n",
              "       1958.25815491, 1958.32189894, 1958.1810376 , 1957.00777911,\n",
              "       1958.26068499, 1957.25515792, 1957.96070958, 1958.09590835,\n",
              "       1958.09110923, 1958.48245877, 1959.00215981, 1958.11601849,\n",
              "       1958.76807697, 1958.80141985, 1958.84023453, 1957.43383998,\n",
              "       1958.99499124, 1958.36823358, 1958.92079557, 1958.08985423,\n",
              "       1958.76107909, 1956.80379422, 1958.78216311, 1957.60314467,\n",
              "       1957.13158548, 1958.2223924 , 1957.19913467, 1958.60752718,\n",
              "       1958.90078583, 1958.88822577, 1957.40570787, 1958.97445942,\n",
              "       1957.56488219, 1957.30071949, 1958.57449554, 1959.03595448,\n",
              "       1958.09740431, 1958.27437957, 1958.83416032, 1958.26868688,\n",
              "       1956.75836719, 1957.85098231, 1957.58848625, 1958.95193968,\n",
              "       1958.91249248, 1957.69561316, 1958.96036324, 1956.91221227,\n",
              "       1956.74535634, 1957.11492911, 1957.72870503, 1957.09817233,\n",
              "       1959.00012168, 1958.9202032 , 1958.11460285, 1956.91009483,\n",
              "       1958.83059612, 1957.07944269, 1957.13482841, 1959.00819385,\n",
              "       1958.81295582, 1957.35789735, 1959.01506122, 1958.85019422,\n",
              "       1956.88034628, 1958.24929962, 1959.07923696, 1957.10886494,\n",
              "       1958.77338814, 1958.83053588, 1957.47535542, 1957.75012037,\n",
              "       1959.02697871, 1958.95786328, 1957.2358309 , 1958.85144922,\n",
              "       1958.20773398, 1957.65099535, 1956.89587517, 1958.14227312,\n",
              "       1959.00166784, 1958.70337915, 1959.04638605, 1958.5106712 ,\n",
              "       1958.75109932, 1957.57641816, 1958.69600978, 1957.65087487,\n",
              "       1957.37339912, 1958.74995476, 1957.80262962, 1958.96113633,\n",
              "       1958.55668457, 1959.05181769, 1957.74756017, 1957.64081478,\n",
              "       1957.13687657, 1957.07791159, 1959.02756103, 1957.6727621 ,\n",
              "       1958.7531274 , 1957.0323189 , 1958.99238084, 1958.0271644 ,\n",
              "       1958.54522892, 1958.41133534, 1959.03732996, 1957.21748781,\n",
              "       1958.99126639, 1957.62425881, 1958.22258316, 1958.10547648,\n",
              "       1957.07167875, 1956.9508904 , 1958.96781293, 1956.79965974,\n",
              "       1958.34952904, 1958.87053528, 1959.06094406, 1959.00553325,\n",
              "       1958.86439079, 1958.71893113, 1957.613265  , 1958.76585813,\n",
              "       1957.13069192, 1959.04764105, 1958.9129744 , 1957.2762821 ,\n",
              "       1958.61948483, 1957.04426952, 1958.74396087, 1958.64192425])"
            ]
          },
          "metadata": {},
          "execution_count": 120
        }
      ],
      "source": [
        "preds"
      ]
    },
    {
      "cell_type": "code",
      "execution_count": 121,
      "id": "f849fcd3",
      "metadata": {
        "id": "f849fcd3"
      },
      "outputs": [],
      "source": [
        "from sklearn.neighbors import KNeighborsClassifier\n",
        "knn = KNeighborsClassifier()"
      ]
    },
    {
      "cell_type": "code",
      "execution_count": 122,
      "id": "7afdb17c",
      "metadata": {
        "id": "7afdb17c"
      },
      "outputs": [],
      "source": [
        "import pandas as pd\n",
        "import numpy as np\n",
        "import matplotlib.pyplot as plt\n",
        "from sklearn import tree\n",
        "from sklearn.model_selection import train_test_split\n"
      ]
    },
    {
      "cell_type": "code",
      "execution_count": 123,
      "id": "3275bbe8",
      "metadata": {
        "id": "3275bbe8"
      },
      "outputs": [],
      "source": [
        "mydata = pd.read_csv(r'tempreture_1901_2016_pakistan.csv')\n",
        "df = pd.DataFrame(mydata, columns = ['Temperature - (Celsius)','Year','Month'])"
      ]
    },
    {
      "cell_type": "code",
      "execution_count": 124,
      "id": "aa3c418e",
      "metadata": {
        "id": "aa3c418e"
      },
      "outputs": [],
      "source": [
        "x = df.iloc[:, 1]\n",
        "y = df.iloc[:, 2]"
      ]
    },
    {
      "cell_type": "code",
      "execution_count": 234,
      "id": "3e42afef",
      "metadata": {
        "id": "3e42afef"
      },
      "outputs": [],
      "source": [
        "x_train, x_test, y_train, y_test = train_test_split(df['Temperature - (Celsius)'], df['Month'], test_size = 0.2)"
      ]
    },
    {
      "cell_type": "code",
      "execution_count": 235,
      "id": "1abbb3f7",
      "metadata": {
        "colab": {
          "base_uri": "https://localhost:8080/"
        },
        "id": "1abbb3f7",
        "outputId": "e5b156c1-a65d-413d-831e-e9efada11f6a"
      },
      "outputs": [
        {
          "output_type": "execute_result",
          "data": {
            "text/plain": [
              "KNeighborsClassifier()"
            ]
          },
          "metadata": {},
          "execution_count": 235
        }
      ],
      "source": [
        "knn.fit(np.array(x_train).reshape(-1,1), y_train)"
      ]
    },
    {
      "cell_type": "code",
      "execution_count": 236,
      "id": "de51a320",
      "metadata": {
        "colab": {
          "base_uri": "https://localhost:8080/"
        },
        "id": "de51a320",
        "outputId": "4437e8f8-8d2a-4da7-fe30-35dbe77b617d"
      },
      "outputs": [
        {
          "output_type": "execute_result",
          "data": {
            "text/plain": [
              "<bound method KNeighborsClassifier.predict of KNeighborsClassifier()>"
            ]
          },
          "metadata": {},
          "execution_count": 236
        }
      ],
      "source": [
        "knn.predict"
      ]
    },
    {
      "cell_type": "code",
      "execution_count": 237,
      "id": "5291c4c6",
      "metadata": {
        "id": "5291c4c6"
      },
      "outputs": [],
      "source": [
        "#Confusion Matrix"
      ]
    },
    {
      "cell_type": "code",
      "execution_count": 238,
      "id": "c54f475e",
      "metadata": {
        "colab": {
          "base_uri": "https://localhost:8080/"
        },
        "id": "c54f475e",
        "outputId": "94c82836-6698-437b-8807-1e631044b365"
      },
      "outputs": [
        {
          "output_type": "execute_result",
          "data": {
            "text/plain": [
              "array([[15,  0,  0,  0,  0,  0,  0,  0,  0,  0,  6,  0],\n",
              "       [ 0, 17,  0,  0,  0,  4,  0,  0,  4,  0,  0,  0],\n",
              "       [ 0,  0, 13,  1,  5,  0,  0,  0,  0,  0,  0,  0],\n",
              "       [ 0,  0,  8,  9,  5,  0,  0,  1,  0,  1,  0,  0],\n",
              "       [ 0,  0,  3,  2, 12,  0,  0,  0,  0,  0,  0,  0],\n",
              "       [ 0,  2,  0,  0,  0, 13,  5,  0,  0,  0,  0,  0],\n",
              "       [ 0,  1,  0,  0,  0, 14,  7,  0,  0,  0,  0,  0],\n",
              "       [ 1,  0,  0,  0,  0,  0,  0, 13,  0, 15,  0,  0],\n",
              "       [ 2,  6,  0,  0,  0,  1,  0,  0,  9,  0,  0, 13],\n",
              "       [ 0,  0,  0,  1,  0,  0,  0,  6,  0, 12,  0,  0],\n",
              "       [ 8,  0,  0,  0,  0,  0,  0,  0,  0,  0, 12,  0],\n",
              "       [ 2,  0,  0,  0,  0,  0,  0,  0,  8,  0,  0, 22]])"
            ]
          },
          "metadata": {},
          "execution_count": 238
        }
      ],
      "source": [
        "from sklearn.metrics import confusion_matrix\n",
        "y_pred = knn.predict(np.array(x_test).reshape(-1,1))\n",
        "cm = confusion_matrix(y_test, y_pred)\n",
        "cm"
      ]
    },
    {
      "cell_type": "code",
      "execution_count": 239,
      "id": "77901e40",
      "metadata": {
        "colab": {
          "base_uri": "https://localhost:8080/",
          "height": 352
        },
        "id": "77901e40",
        "outputId": "ea2e23df-7b53-41b0-fd6e-20f9dd3e1e87"
      },
      "outputs": [
        {
          "output_type": "execute_result",
          "data": {
            "text/plain": [
              "Text(42.0, 0.5, 'Year difference')"
            ]
          },
          "metadata": {},
          "execution_count": 239
        },
        {
          "output_type": "display_data",
          "data": {
            "text/plain": [
              "<Figure size 504x360 with 2 Axes>"
            ],
            "image/png": "[encoded data removed]"
          },
          "metadata": {
            "needs_background": "light"
          }
        }
      ],
      "source": [
        "plt.figure(figsize=(7,5))\n",
        "sns.heatmap(cm, annot=True)\n",
        "plt.xlabel('Temperature - (Celsius)')\n",
        "plt.ylabel('Year difference')"
      ]
    },
    {
      "cell_type": "code",
      "execution_count": 132,
      "id": "9822b8cc",
      "metadata": {
        "id": "9822b8cc"
      },
      "outputs": [],
      "source": [
        "#classification reports"
      ]
    },
    {
      "cell_type": "code",
      "execution_count": 133,
      "id": "82c3ca2f",
      "metadata": {
        "colab": {
          "base_uri": "https://localhost:8080/"
        },
        "id": "82c3ca2f",
        "outputId": "cf251f22-68cd-46e4-9c5d-4e01d48cbd10"
      },
      "outputs": [
        {
          "output_type": "stream",
          "name": "stdout",
          "text": [
            "              precision    recall  f1-score   support\n",
            "\n",
            "       April       0.52      0.52      0.52        21\n",
            "      August       0.61      0.83      0.70        24\n",
            "    December       0.32      0.26      0.29        23\n",
            "    February       0.36      0.35      0.36        23\n",
            "     January       0.70      0.91      0.79        23\n",
            "        July       0.58      0.48      0.52        23\n",
            "        June       0.33      0.29      0.31        17\n",
            "       March       0.63      0.77      0.69        22\n",
            "         May       0.42      0.47      0.44        30\n",
            "    November       0.81      0.52      0.63        25\n",
            "     October       0.60      0.60      0.60        20\n",
            "   September       0.50      0.43      0.46        28\n",
            "\n",
            "    accuracy                           0.54       279\n",
            "   macro avg       0.53      0.54      0.53       279\n",
            "weighted avg       0.53      0.54      0.53       279\n",
            "\n"
          ]
        }
      ],
      "source": [
        "from sklearn.metrics import classification_report\n",
        "\n",
        "print(classification_report(y_test, y_pred))"
      ]
    },
    {
      "cell_type": "markdown",
      "source": [
        "# Save the Machine learing Model"
      ],
      "metadata": {
        "id": "N7O2ExU_bKRv"
      },
      "id": "N7O2ExU_bKRv"
    },
    {
      "cell_type": "code",
      "source": [
        "import joblib\n",
        "joblib.dump(lr,\"Pakistan_temperature_predicator_model.pkl\")"
      ],
      "metadata": {
        "colab": {
          "base_uri": "https://localhost:8080/"
        },
        "id": "ys7GLWJ_bdXn",
        "outputId": "18beba04-c22f-486a-8f62-19fcf48b6c83"
      },
      "id": "ys7GLWJ_bdXn",
      "execution_count": 286,
      "outputs": [
        {
          "output_type": "execute_result",
          "data": {
            "text/plain": [
              "['Pakistan_temperature_predictor_model.pkl']"
            ]
          },
          "metadata": {},
          "execution_count": 286
        }
      ]
    },
    {
      "cell_type": "code",
      "source": [
        "model = joblib.load(\"Pakistan_temperature_predictor_model.pkl\")"
      ],
      "metadata": {
        "id": "f60apNqPckYV"
      },
      "id": "f60apNqPckYV",
      "execution_count": 308,
      "outputs": []
    },
    {
      "cell_type": "code",
      "source": [
        "model.predict(np.array([[2022]]))"
      ],
      "metadata": {
        "colab": {
          "base_uri": "https://localhost:8080/"
        },
        "id": "shxXO57Fcv6C",
        "outputId": "21e5c527-6862-4f3d-e6bb-bf6bb0ee1afb"
      },
      "id": "shxXO57Fcv6C",
      "execution_count": 315,
      "outputs": [
        {
          "output_type": "execute_result",
          "data": {
            "text/plain": [
              "array([20.46077355])"
            ]
          },
          "metadata": {},
          "execution_count": 315
        }
      ]
    }
  ],
  "metadata": {
    "kernelspec": {
      "display_name": "Python 3 (ipykernel)",
      "language": "python",
      "name": "python3"
    },
    "language_info": {
      "codemirror_mode": {
        "name": "ipython",
        "version": 3
      },
      "file_extension": ".py",
      "mimetype": "text/x-python",
      "name": "python",
      "nbconvert_exporter": "python",
      "pygments_lexer": "ipython3",
      "version": "3.10.5"
    },
    "colab": {
      "name": "DS-Project-Muhammad Faique.ipynb",
      "provenance": [],
      "collapsed_sections": [
        "e4c12327",
        "5cdd88ee",
        "9bdb85d5",
        "7ecedc49",
        "5cc491b0",
        "924789b2"
      ]
    }
  },
  "nbformat": 4,
  "nbformat_minor": 5
}